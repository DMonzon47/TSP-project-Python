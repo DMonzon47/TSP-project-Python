{
 "cells": [
  {
   "cell_type": "code",
   "execution_count": 1,
   "metadata": {},
   "outputs": [
    {
     "name": "stdout",
     "output_type": "stream",
     "text": [
      "()\n",
      "True\n"
     ]
    }
   ],
   "source": [
    "\n",
    "class Node:\n",
    "  def __init__(self, init_data):\n",
    "    self.data = init_data\n",
    "    self.next = None\n",
    "\n",
    "class Stack:\n",
    "  def __init__(self):\n",
    "    self.top = None    #top stores a Node\n",
    "  def push(self, x):\n",
    "    new_node = Node(x)\n",
    "    new_node.next = self.top\n",
    "    self.top = new_node\n",
    "  def pop(self):\n",
    "    self.top = self.top.next\n",
    "  def peek(self):\n",
    "    return self.top.data\n",
    "  def is_empty(self):\n",
    "    return self.top == None\n",
    "    \n",
    "#start with empty stack  \n",
    "s = Stack()\n",
    "#for each symbol sym in the input:\n",
    "for sym in input():\n",
    "  d1 = {'(':')','[':']','{':'}','<':'>'}\n",
    "    #if sym is an opening symbol: stack.push(sym)\n",
    "  if sym in d1:\n",
    "    s.push(sym)\n",
    "  \n",
    "  else: #sym is a closing symbol\n",
    "    if sym == d1[s.peek()]: \n",
    "      s.pop() \n",
    "    #else: print “Incorrect” and exit\n",
    "    else: \n",
    "      break\n",
    "    \n",
    "\"\"\"if sym == '(':  \n",
    "    s.push(sym)\n",
    "  elif sym == '[':\n",
    "    s.push(sym)\n",
    "  elif sym == '{' or '<':\n",
    "    s.push(sym)\n",
    "\"\"\"\n",
    "#if stack.empty(): “Correct” \n",
    "if s.is_empty(): print(\"True\")\n",
    "else: print(\"False\")\n",
    "    "
   ]
  },
  {
   "cell_type": "code",
   "execution_count": null,
   "metadata": {},
   "outputs": [],
   "source": []
  }
 ],
 "metadata": {
  "kernelspec": {
   "display_name": "Python 3",
   "language": "python",
   "name": "python3"
  },
  "language_info": {
   "codemirror_mode": {
    "name": "ipython",
    "version": 3
   },
   "file_extension": ".py",
   "mimetype": "text/x-python",
   "name": "python",
   "nbconvert_exporter": "python",
   "pygments_lexer": "ipython3",
   "version": "3.7.4"
  }
 },
 "nbformat": 4,
 "nbformat_minor": 2
}
