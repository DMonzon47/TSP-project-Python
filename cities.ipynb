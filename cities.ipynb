{
 "cells": [
  {
   "cell_type": "code",
   "execution_count": 32,
   "metadata": {},
   "outputs": [],
   "source": [
    "import random as rand\n",
    "import math"
   ]
  },
  {
   "cell_type": "code",
   "execution_count": 2,
   "metadata": {},
   "outputs": [
    {
     "name": "stdout",
     "output_type": "stream",
     "text": [
      "[['Alabama', 'Montgomery', '32.361538', '-86.279118'], ['Alaska', 'Juneau', '58.301935', '-134.41974'], ['Arizona', 'Phoenix', '33.448457', '-112.073844'], ['Arkansas', 'Little Rock', '34.736009', '-92.331122'], ['California', 'Sacramento', '38.555605', '-121.468926'], ['Colorado', 'Denver', '39.7391667', '-104.984167'], ['Connecticut', 'Hartford', '41.767', '-72.677'], ['Delaware', 'Dover', '39.161921', '-75.526755'], ['Florida', 'Tallahassee', '30.4518', '-84.27277'], ['Georgia', 'Atlanta', '33.76', '-84.39'], ['Hawaii', 'Honolulu', '21.30895', '-157.826182'], ['Idaho', 'Boise', '43.613739', '-116.237651'], ['Illinois', 'Springfield', '39.78325', '-89.650373'], ['Indiana', 'Indianapolis', '39.790942', '-86.147685'], ['Iowa', 'Des Moines', '41.590939', '-93.620866'], ['Kansas', 'Topeka', '39.04', '-95.69'], ['Kentucky', 'Frankfort', '38.197274', '-84.86311'], ['Louisiana', 'Baton Rouge', '30.45809', '-91.140229'], ['Maine', 'Augusta', '44.323535', '-69.765261'], ['Maryland', 'Annapolis', '38.972945', '-76.501157'], ['Massachusetts', 'Boston', '42.2352', '-71.0275'], ['Michigan', 'Lansing', '42.7335', '-84.5467'], ['Minnesota', 'Saint Paul', '44.95', '-93.094'], ['Mississippi', 'Jackson', '32.32', '-90.207'], ['Missouri', 'Jefferson City', '38.572954', '-92.189283'], ['Montana', 'Helana', '46.595805', '-112.027031'], ['Nebraska', 'Lincoln', '40.809868', '-96.675345'], ['Nevada', 'Carson City', '39.160949', '-119.753877'], ['New Hampshire', 'Concord', '43.220093', '-71.549127'], ['New Jersey', 'Trenton', '40.221741', '-74.756138'], ['New Mexico', 'Santa Fe', '35.667231', '-105.964575'], ['New York', 'Albany', '42.659829', '-73.781339'], ['North Carolina', 'Raleigh', '35.771', '-78.638'], ['North Dakota', 'Bismarck', '48.813343', '-100.779004'], ['Ohio', 'Columbus', '39.962245', '-83.000647'], ['Oklahoma', 'Oklahoma City', '35.482309', '-97.534994'], ['Oregon', 'Salem', '44.931109', '-123.029159'], ['Pennsylvania', 'Harrisburg', '40.269789', '-76.875613'], ['Rhode Island', 'Providence', '41.82355', '-71.422132'], ['South Carolina', 'Columbia', '34', '-81.035'], ['South Dakota', 'Pierre', '44.367966', '-100.336378'], ['Tennessee', 'Nashville', '36.165', '-86.784'], ['Texas', 'Austin', '30.266667', '-97.75'], ['Utah', 'Salt Lake City', '40.7547', '-111.892622'], ['Vermont', 'Montpelier', '44.26639', '-72.57194'], ['Virginia', 'Richmond', '37.54', '-77.46'], ['Washington', 'Olympia', '47.042418', '-122.893077'], ['West Virginia', 'Charleston', '38.349497', '-81.633294'], ['Wisconsin', 'Madison', '43.074722', '-89.384444'], ['Wyoming', 'Cheyenne', '41.145548', '-104.802042']]\n"
     ]
    }
   ],
   "source": [
    "def read_cities(file_name):\n",
    "    \"\"\"\n",
    "    Read in the cities from the given `file_name`, and return \n",
    "    them as a list of four-tuples: \n",
    "      [(state, city, latitude, longitude), ...] \n",
    "    Use this as your initial `road_map`, that is, the cycle \n",
    "      Alabama -> Alaska -> Arizona -> ... -> Wyoming -> Alabama.\n",
    "    \"\"\"\n",
    "    \n",
    "    #road_map = []\n",
    "    infile = open(file_name,\"r\")\n",
    "    inline = infile.readlines()\n",
    "    r_listt = [line.rstrip() for line in inline]\n",
    "    road_map = [(line.split('\\t',4)) for line in r_listt]\n",
    "    \n",
    "    \n",
    "    infile.close()   \n",
    "    return road_map\n",
    "\n",
    "road_map = read_cities('city-data.txt')\n",
    "print(road_map)\n"
   ]
  },
  {
   "cell_type": "code",
   "execution_count": 49,
   "metadata": {},
   "outputs": [
    {
     "name": "stdout",
     "output_type": "stream",
     "text": [
      "[('Alabama', 'Montgomery', 32.36, -86.28), ('Alaska', 'Juneau', 58.3, -134.42), ('Arizona', 'Phoenix', 33.45, -112.07), ('Arkansas', 'Little Rock', 34.74, -92.33), ('California', 'Sacramento', 38.56, -121.47), ('Colorado', 'Denver', 39.74, -104.98), ('Connecticut', 'Hartford', 41.77, -72.68), ('Delaware', 'Dover', 39.16, -75.53), ('Florida', 'Tallahassee', 30.45, -84.27), ('Georgia', 'Atlanta', 33.76, -84.39), ('Hawaii', 'Honolulu', 21.31, -157.83), ('Idaho', 'Boise', 43.61, -116.24), ('Illinois', 'Springfield', 39.78, -89.65), ('Indiana', 'Indianapolis', 39.79, -86.15), ('Iowa', 'Des Moines', 41.59, -93.62), ('Kansas', 'Topeka', 39.04, -95.69), ('Kentucky', 'Frankfort', 38.2, -84.86), ('Louisiana', 'Baton Rouge', 30.46, -91.14), ('Maine', 'Augusta', 44.32, -69.77), ('Maryland', 'Annapolis', 38.97, -76.5), ('Massachusetts', 'Boston', 42.24, -71.03), ('Michigan', 'Lansing', 42.73, -84.55), ('Minnesota', 'Saint Paul', 44.95, -93.09), ('Mississippi', 'Jackson', 32.32, -90.21), ('Missouri', 'Jefferson City', 38.57, -92.19), ('Montana', 'Helana', 46.6, -112.03), ('Nebraska', 'Lincoln', 40.81, -96.68), ('Nevada', 'Carson City', 39.16, -119.75), ('New Hampshire', 'Concord', 43.22, -71.55), ('New Jersey', 'Trenton', 40.22, -74.76), ('New Mexico', 'Santa Fe', 35.67, -105.96), ('New York', 'Albany', 42.66, -73.78), ('North Carolina', 'Raleigh', 35.77, -78.64), ('North Dakota', 'Bismarck', 48.81, -100.78), ('Ohio', 'Columbus', 39.96, -83.0), ('Oklahoma', 'Oklahoma City', 35.48, -97.53), ('Oregon', 'Salem', 44.93, -123.03), ('Pennsylvania', 'Harrisburg', 40.27, -76.88), ('Rhode Island', 'Providence', 41.82, -71.42), ('South Carolina', 'Columbia', 34.0, -81.03), ('South Dakota', 'Pierre', 44.37, -100.34), ('Tennessee', 'Nashville', 36.16, -86.78), ('Texas', 'Austin', 30.27, -97.75), ('Utah', 'Salt Lake City', 40.75, -111.89), ('Vermont', 'Montpelier', 44.27, -72.57), ('Virginia', 'Richmond', 37.54, -77.46), ('Washington', 'Olympia', 47.04, -122.89), ('West Virginia', 'Charleston', 38.35, -81.63), ('Wisconsin', 'Madison', 43.07, -89.38), ('Wyoming', 'Cheyenne', 41.15, -104.8)]\n"
     ]
    }
   ],
   "source": [
    "def print_cities(road_map):\n",
    "    \"\"\"\n",
    "    Prints a list of cities, along with their locations. \n",
    "    Print only one or two digits after the decimal point.\n",
    "    \"\"\"\n",
    "    \n",
    "    #creates a list (road_map2) where each index has a list of: str,str,float,float.\n",
    "    road_map2 = [(i[0],i[1],round(float(i[2]),2),round(float(i[3]),2)) for i in road_map]\n",
    "    road_map = road_map2\n",
    "\n",
    "\n",
    "    return (road_map)\n",
    "\n",
    "print(print_cities(road_map))\n"
   ]
  },
  {
   "cell_type": "code",
   "execution_count": 25,
   "metadata": {
    "scrolled": true
   },
   "outputs": [],
   "source": [
    "def compute_total_distance(road_map):\n",
    "    \"\"\"\n",
    "    Returns, as a floating point number, the sum of the distances of all \n",
    "    the connections in the `road_map`. Remember that it's a cycle, so that \n",
    "    (for example) in the initial `road_map`, Wyoming connects to Alabama...\n",
    "    \"\"\"\n",
    "    \n",
    "    #to check for empty road_map\n",
    "    if len(road_map) == 0: \n",
    "        return \"Empty 'road_map', please input correct format: [('state','city','latitude','longitude')].\"\n",
    "    \n",
    "    #to check if longitude and latitude is in float() type and if road_map follows correct format. \n",
    "    for i in road_map:\n",
    "        if len(i)!= 4: \n",
    "            return \"List does not follow format [(state, city, latitude, longitude)]\"\n",
    "        if type(i[2]) != float or type(i[3]) != float:\n",
    "            return \"Incorrect type/format. 'road_map' index[2] and [3] must be of float() types.\" \n",
    "        if type(i[0]) != str or type(i[1]) != str:\n",
    "            return \"Incorrect type/format. 'road_map' index[2] and [3] must be of str() types.\" \n",
    "        \n",
    "    total_distance = 0\n",
    "    #coordinates index from road_map. (floats, longitude and latitude)\n",
    "    x1 = road_map[0][2] \n",
    "    y1 = road_map[0][3]\n",
    "    \n",
    "    x2 = 0\n",
    "    y2 = 0\n",
    "\n",
    "    for i in range(len(road_map)): \n",
    "        x2 = road_map[(i + 1) % len(road_map)][2]\n",
    "        y2 = road_map[(i + 1) % len(road_map)][3]\n",
    "        #compute distance between two cities and then add to 'total_distance', returns a float to 2 decimal places. \n",
    "        total_distance += math.sqrt((x1-x2)**2 + (y1-y2)**2)    \n",
    "        x1 = x2\n",
    "        y1 = y2\n",
    "            \n",
    "    return round(float(total_distance),2)\n",
    "\n",
    "#print(compute_total_distance(road_map))"
   ]
  },
  {
   "cell_type": "code",
   "execution_count": 47,
   "metadata": {
    "scrolled": true
   },
   "outputs": [],
   "source": [
    "def swap_cities(road_map, index1, index2):\n",
    "\n",
    "    #if indices are same, return road_map. \n",
    "    if index1==index2:\n",
    "        return road_map\n",
    "    \n",
    "    #checks if inputted index1 and index2 is of int type.     \n",
    "    if type(index1)!= int or type(index2) != int:\n",
    "        return \"Input: index1 or index2 is of wrong type. Input must be an int.\"\n",
    "    \n",
    "    #to check for empty road_map\n",
    "    if len(road_map) == 0: \n",
    "        return \"Empty 'road_map', please input correct format: [('state','city','latitude','longitude')].\"\n",
    "    \n",
    "    #to check if longitude and latitude is in float() type and if road_map follows correct format. \n",
    "    for i in road_map:\n",
    "        if type(i[2]) != float or type(i[3]) != float:\n",
    "            return \"Incorrect type. 'road_map' index[2] and [3] must be of float() types.\"\n",
    "        if type(i[0]) != str or type(i[1]) != str:\n",
    "            return \"Incorrect type. 'road_map' index[0] and [1] must be of str() types.\"\n",
    "        if len(i)!= 4: \n",
    "            return \"List does not follow format [(state, city, latitude, longitude)]\"\n",
    "            \n",
    "    #create new_road_map from original road_map so that original is unaltered.\n",
    "    new_road_map = [(i) for i in road_map]\n",
    "    new_road_map [index1],new_road_map [index2] = new_road_map [index2],new_road_map [index1]\n",
    "    \n",
    "    new_total_distance = compute_total_distance(new_road_map)\n",
    "\n",
    "    return (new_road_map, new_total_distance)\n",
    "#print(swap_cities(road_map,0,1))\n"
   ]
  },
  {
   "cell_type": "code",
   "execution_count": 27,
   "metadata": {
    "scrolled": true
   },
   "outputs": [],
   "source": [
    "def shift_cities(road_map):\n",
    "    \"\"\"\n",
    "    For every index i in the `road_map`, the city at the position i moves\n",
    "    to the position i+1. The city at the last position moves to the position\n",
    "    0. Return the new road map. \n",
    "    \"\"\"\n",
    "    \n",
    "    #road_map = [road_map[-1]] + road_map[:-1]\n",
    "    #print(road_map)\n",
    "    \n",
    "    #to check for empty road_map\n",
    "    if len(road_map) == 0: \n",
    "        return \"Empty 'road_map', please input correct format: [('state','city','latitude','longitude')].\"\n",
    "    \n",
    "    #to check if longitude and latitude is in float() type and if road_map follows correct format. \n",
    "    for i in road_map:\n",
    "        if type(i[2]) != float or type(i[3]) != float:\n",
    "            return \"Incorrect type. 'road_map' index[2] and [3] must be of float() types.\"\n",
    "        if type(i[0]) != str or type(i[1]) != str:\n",
    "            return \"Incorrect type. 'road_map' index[0] and [1] must be of str() types.\"\n",
    "        if len(i)!= 4: \n",
    "            return \"List does not follow format [(state, city, latitude, longitude)]\"\n",
    "     \n",
    "    #create new_road_map to leave original unaltered.\n",
    "    new_road_map = [(i) for i in road_map]\n",
    "    \n",
    "    #shifts all elements in list to index+1. Last element becomes index[0] (start of list).\n",
    "    new_road_map.insert(0,new_road_map.pop())\n",
    "    \n",
    "    return  new_road_map\n",
    "#print(shift_cities(road_map))"
   ]
  },
  {
   "cell_type": "code",
   "execution_count": 28,
   "metadata": {},
   "outputs": [],
   "source": [
    "def find_best_cycle(road_map):\n",
    "    \"\"\" \n",
    "    Using a combination of swap_cities and shift_cities, try 10000 swaps/shifts, \n",
    "    and each time keep the best cycle found so far. After 10000 swaps/shifts, return the best cycle found so far. \n",
    "    Use randomly generated indices for swapping. \n",
    "    \"\"\"\n",
    "    \n",
    "    n = 10000\n",
    "    count = 0\n",
    "    new_cycle = 0\n",
    "    best_cycle = 1060.14\n",
    "    best_cycle_road_map = road_map \n",
    "    \n",
    "    while count!= n:\n",
    "        #generate random int to choose element from road_map. int range from 0 to len(road_map).\n",
    "        n1 = int((len(road_map)) * rand.random())\n",
    "        n2 = int((len(road_map)) * rand.random())\n",
    "\n",
    "        a = swap_cities(best_cycle_road_map, n1, n2)\n",
    "\n",
    "        #a[1] is total_distance computed for road_map. \n",
    "        if a[1] < best_cycle: \n",
    "            best_cycle = a[1]\n",
    "            best_cycle_road_map = a[0] #a[0] is road_map generated for the cycle. \n",
    "\n",
    "        b = shift_cities(best_cycle_road_map)\n",
    "        \n",
    "        new_cycle = compute_total_distance(b)\n",
    "        \n",
    "        if new_cycle < best_cycle:\n",
    "            best_cycle = new_cycle\n",
    "            \n",
    "            best_cycle_road_map = b\n",
    "\n",
    "        count+=1\n",
    "\n",
    "    return ('Total distance: ' + str(best_cycle)), best_cycle_road_map\n",
    "#store best cycle and best shift/swap, compares and replaces. "
   ]
  },
  {
   "cell_type": "code",
   "execution_count": 29,
   "metadata": {},
   "outputs": [],
   "source": [
    "def print_map(road_map):\n",
    "    \"\"\"\n",
    "    Prints, in an easily understandable format, the cities and \n",
    "    their connections, along with the cost for each connection \n",
    "    and the total cost.\n",
    "    \n",
    "    ***need to fix this for new functions!!!!***\n",
    "    \"\"\"\n",
    "\n",
    "    for i in range(len(road_map)): \n",
    "        x1 = road_map[i][2]\n",
    "        y1 = road_map[i][3]\n",
    "        x2 = 0\n",
    "        y2 = 0\n",
    "        \n",
    "        #print(x1, x2, y1,y2)\n",
    "        x2 = road_map[(i + 1) % len(road_map)][2]\n",
    "        y2 = road_map[(i + 1) % len(road_map)][3]\n",
    "        #print(x2,y2)\n",
    "        distance = round((math.sqrt((x1-x2)**2 + (y1-y2)**2)),2) \n",
    "        print('Distance between '+ str(road_map[i][1]) + ' -> ' + str(road_map[(i + 1) % len(road_map)][1]) +' is '+ str(distance))\n",
    "        \n",
    "    total_distance = compute_total_distance(road_map)    \n",
    "    print ('Total distance: ' + str(total_distance))\n",
    "        \n",
    "#print_map(road_map)"
   ]
  },
  {
   "cell_type": "code",
   "execution_count": 45,
   "metadata": {},
   "outputs": [],
   "source": [
    "def main():\n",
    "    \"\"\"\n",
    "    Reads in, and prints out, the city data, then creates the \"best\"\n",
    "    cycle and prints it out.\n",
    "    \"\"\"\n",
    "\n",
    "    file = input(\"Please input your file name: \\n\")\n",
    "    \n",
    "    #prevents function from crashing if file is not found. Prompts user to input file name again. \n",
    "    try:\n",
    "        f = open(file, \"r\")\n",
    "    except:\n",
    "        print(\"There is no file named \" + \"'\" + file + \"'.\")\n",
    "        file = input(\"Please input your file name: \\n\")\n",
    "    \n",
    "    road_map = read_cities(file)\n",
    "    \n",
    "    #print_roadmap = print_cities(road_map)\n",
    "    \n",
    "    #assigned original road_map\n",
    "    road_map2 = print_cities(road_map)\n",
    "    print('\\n'+str(road_map2) +  '\\n')\n",
    "    \n",
    "    best_cycle = find_best_cycle(road_map2)\n",
    "    \n",
    "    print(best_cycle)\n",
    "\n",
    "    if __name__ == \"__main__\": #keep this in\n",
    "        main()\n",
    "        return \"main name\""
   ]
  },
  {
   "cell_type": "code",
   "execution_count": 48,
   "metadata": {},
   "outputs": [],
   "source": [
    "#main()"
   ]
  },
  {
   "cell_type": "code",
   "execution_count": 9,
   "metadata": {},
   "outputs": [],
   "source": [
    "#longitude = x, latitude = y\n",
    "def visualise(road_map):\n",
    "    import tkinter as tk\n",
    "    import matplotlib \n",
    "    import matplotlib.pyplot as plt\n",
    "    from matplotlib.path import Path\n",
    "    import matplotlib.patches as patches\n",
    "    from matplotlib.pyplot import figure\n",
    "    \n",
    "    longitude_x = [(i[3]) for i in road_map]\n",
    "    latitude_y = [(i[2]) for i in road_map]\n",
    "    \n",
    "    plt.scatter(longitude_x, latitude_y)\n",
    "    plt.plot(longitude_x, latitude_y, color = 'green', label = 'Total distance: ' + str(350))\n",
    "    #plt.plot(x1,y1, color = 'red', label = 'abnormal')\n",
    "    plt.xlabel('Longitude')\n",
    "    plt.ylabel('Latitude')\n",
    "    plt.legend(loc=\"lower right\", prop = {'size':10})\n",
    "    #plt.ylim(-90, 90)\n",
    "    #plt.xlim(-180,180)\n",
    "    plt.ylim(20, 60)\n",
    "    plt.xlim(-160,-60)\n",
    "    \n",
    "    #plt.plot(figsize=[40,40])#to change figure size\n",
    "    plt.title(\"TSP: best cycle road map visualiser.\")\n",
    "\n",
    "    plt.show()\n",
    "    \n",
    "    \n",
    "# print(visualise(best_cycle_road_map))"
   ]
  },
  {
   "cell_type": "code",
   "execution_count": 4,
   "metadata": {},
   "outputs": [],
   "source": [
    "rm = [('Alabama', 'Montgomery', 32.36, -86.28), ('Alaska', 'Juneau', 58.3, -134.42), ('Arizona', 'Phoenix', 33.45, -112.07), ('Arkansas', 'Little Rock', 34.74, -92.33), ('California', 'Sacramento', 38.56, -121.47), ('Colorado', 'Denver', 39.74, -104.98), ('Connecticut', 'Hartford', 41.77, -72.68), ('Delaware', 'Dover', 39.16, -75.53), ('Florida', 'Tallahassee', 30.45, -84.27), ('Georgia', 'Atlanta', 33.76, -84.39), ('Hawaii', 'Honolulu', 21.31, -157.83), ('Idaho', 'Boise', 43.61, -116.24), ('Illinois', 'Springfield', 39.78, -89.65), ('Indiana', 'Indianapolis', 39.79, -86.15), ('Iowa', 'Des Moines', 41.59, -93.62), ('Kansas', 'Topeka', 39.04, -95.69), ('Kentucky', 'Frankfort', 38.2, -84.86), ('Louisiana', 'Baton Rouge', 30.46, -91.14), ('Maine', 'Augusta', 44.32, -69.77), ('Maryland', 'Annapolis', 38.97, -76.5), ('Massachusetts', 'Boston', 42.24, -71.03), ('Michigan', 'Lansing', 42.73, -84.55), ('Minnesota', 'Saint Paul', 44.95, -93.09), ('Mississippi', 'Jackson', 32.32, -90.21), ('Missouri', 'Jefferson City', 38.57, -92.19), ('Montana', 'Helana', 46.6, -112.03), ('Nebraska', 'Lincoln', 40.81, -96.68), ('Nevada', 'Carson City', 39.16, -119.75), ('New Hampshire', 'Concord', 43.22, -71.55), ('New Jersey', 'Trenton', 40.22, -74.76), ('New Mexico', 'Santa Fe', 35.67, -105.96), ('New York', 'Albany', 42.66, -73.78), ('North Carolina', 'Raleigh', 35.77, -78.64), ('North Dakota', 'Bismarck', 48.81, -100.78), ('Ohio', 'Columbus', 39.96, -83.0), ('Oklahoma', 'Oklahoma City', 35.48, -97.53), ('Oregon', 'Salem', 44.93, -123.03), ('Pennsylvania', 'Harrisburg', 40.27, -76.88), ('Rhode Island', 'Providence', 41.82, -71.42), ('South Carolina', 'Columbia', 34.0, -81.03), ('South Dakota', 'Pierre', 44.37, -100.34), ('Tennessee', 'Nashville', 36.16, -86.78), ('Texas', 'Austin', 30.27, -97.75), ('Utah', 'Salt Lake City', 40.75, -111.89), ('Vermont', 'Montpelier', 44.27, -72.57), ('Virginia', 'Richmond', 37.54, -77.46), ('Washington', 'Olympia', 47.04, -122.89), ('West Virginia', 'Charleston', 38.35, -81.63), ('Wisconsin', 'Madison', 43.07, -89.38), ('Wyoming', 'Cheyenne', 41.15, -104.8)]"
   ]
  },
  {
   "cell_type": "code",
   "execution_count": 5,
   "metadata": {},
   "outputs": [
    {
     "name": "stdout",
     "output_type": "stream",
     "text": [
      "[('Alabama', 'Montgomery', 32.36, -86.28), ('Alaska', 'Juneau', 58.3, -134.42), ('Arizona', 'Phoenix', 33.45, -112.07), ('Arkansas', 'Little Rock', 34.74, -92.33), ('California', 'Sacramento', 38.56, -121.47), ('Colorado', 'Denver', 39.74, -104.98), ('Connecticut', 'Hartford', 41.77, -72.68), ('Delaware', 'Dover', 39.16, -75.53), ('Florida', 'Tallahassee', 30.45, -84.27), ('Georgia', 'Atlanta', 33.76, -84.39), ('Hawaii', 'Honolulu', 21.31, -157.83), ('Idaho', 'Boise', 43.61, -116.24), ('Illinois', 'Springfield', 39.78, -89.65), ('Indiana', 'Indianapolis', 39.79, -86.15), ('Iowa', 'Des Moines', 41.59, -93.62), ('Kansas', 'Topeka', 39.04, -95.69), ('Kentucky', 'Frankfort', 38.2, -84.86), ('Louisiana', 'Baton Rouge', 30.46, -91.14), ('Maine', 'Augusta', 44.32, -69.77), ('Maryland', 'Annapolis', 38.97, -76.5), ('Massachusetts', 'Boston', 42.24, -71.03), ('Michigan', 'Lansing', 42.73, -84.55), ('Minnesota', 'Saint Paul', 44.95, -93.09), ('Mississippi', 'Jackson', 32.32, -90.21), ('Missouri', 'Jefferson City', 38.57, -92.19), ('Montana', 'Helana', 46.6, -112.03), ('Nebraska', 'Lincoln', 40.81, -96.68), ('Nevada', 'Carson City', 39.16, -119.75), ('New Hampshire', 'Concord', 43.22, -71.55), ('New Jersey', 'Trenton', 40.22, -74.76), ('New Mexico', 'Santa Fe', 35.67, -105.96), ('New York', 'Albany', 42.66, -73.78), ('North Carolina', 'Raleigh', 35.77, -78.64), ('North Dakota', 'Bismarck', 48.81, -100.78), ('Ohio', 'Columbus', 39.96, -83.0), ('Oklahoma', 'Oklahoma City', 35.48, -97.53), ('Oregon', 'Salem', 44.93, -123.03), ('Pennsylvania', 'Harrisburg', 40.27, -76.88), ('Rhode Island', 'Providence', 41.82, -71.42), ('South Carolina', 'Columbia', 34.0, -81.03), ('South Dakota', 'Pierre', 44.37, -100.34), ('Tennessee', 'Nashville', 36.16, -86.78), ('Texas', 'Austin', 30.27, -97.75), ('Utah', 'Salt Lake City', 40.75, -111.89), ('Vermont', 'Montpelier', 44.27, -72.57), ('Virginia', 'Richmond', 37.54, -77.46), ('Washington', 'Olympia', 47.04, -122.89), ('West Virginia', 'Charleston', 38.35, -81.63), ('Wisconsin', 'Madison', 43.07, -89.38), ('Wyoming', 'Cheyenne', 41.15, -104.8)]\n"
     ]
    }
   ],
   "source": [
    "print(rm)"
   ]
  },
  {
   "cell_type": "code",
   "execution_count": 10,
   "metadata": {},
   "outputs": [
    {
     "data": {
      "image/png": "[encoded data removed]",
      "text/plain": [
       "<Figure size 432x288 with 1 Axes>"
      ]
     },
     "metadata": {
      "needs_background": "light"
     },
     "output_type": "display_data"
    }
   ],
   "source": [
    "visualise(rm)"
   ]
  },
  {
   "cell_type": "code",
   "execution_count": null,
   "metadata": {},
   "outputs": [],
   "source": []
  }
 ],
 "metadata": {
  "kernelspec": {
   "display_name": "Python 3",
   "language": "python",
   "name": "python3"
  },
  "language_info": {
   "codemirror_mode": {
    "name": "ipython",
    "version": 3
   },
   "file_extension": ".py",
   "mimetype": "text/x-python",
   "name": "python",
   "nbconvert_exporter": "python",
   "pygments_lexer": "ipython3",
   "version": "3.7.4"
  }
 },
 "nbformat": 4,
 "nbformat_minor": 2
}
