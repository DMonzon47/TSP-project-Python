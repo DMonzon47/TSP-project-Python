{
 "cells": [
  {
   "cell_type": "code",
   "execution_count": 1,
   "metadata": {},
   "outputs": [],
   "source": [
    "import random as rand\n",
    "import math"
   ]
  },
  {
   "cell_type": "code",
   "execution_count": 2,
   "metadata": {},
   "outputs": [],
   "source": [
    "def read_cities(file_name):\n",
    "    \"\"\"\n",
    "    Read in the cities from the given `file_name`, and return \n",
    "    them as a list of four-tuples: \n",
    "\n",
    "      [(state, city, latitude, longitude), ...] \n",
    "\n",
    "    Use this as your initial `road_map`, that is, the cycle \n",
    "\n",
    "      Alabama -> Alaska -> Arizona -> ... -> Wyoming -> Alabama.\n",
    "    \"\"\"\n",
    "    road_map = []\n",
    "    infile = open(file_name,\"r\")\n",
    "    \n",
    "    inline = infile.readlines()\n",
    "    r_listt = [line.rstrip() for line in inline]\n",
    "    listt = [(line.split('\\t',4)) for line in r_listt]\n",
    "    #r_listt = [line.rstrip() for line in inline]\n",
    "    \n",
    "    infile.close()   \n",
    "    return listt\n",
    "\n",
    "    #read_cities('city-data.txt')\n",
    "\n",
    "    #for i in listt: \n",
    "\n",
    "#split split(/t) line where /t and create a 4 element tuple. Then add to roadmap.\n",
    "\n",
    "# divide each string into 4 strings at \"t\"\n",
    "# remove \"n\" ()\n",
    "# tranform into tuple \n",
    "# add to listt\n",
    "# return listt\n",
    "road_map = read_cities('city-data.txt')\n",
    "#print(road_map)\n"
   ]
  },
  {
   "cell_type": "code",
   "execution_count": 3,
   "metadata": {},
   "outputs": [
    {
     "name": "stdout",
     "output_type": "stream",
     "text": [
      "[('Alabama', 'Montgomery', 32.36, -86.28), ('Alaska', 'Juneau', 58.3, -134.42), ('Arizona', 'Phoenix', 33.45, -112.07), ('Arkansas', 'Little Rock', 34.74, -92.33), ('California', 'Sacramento', 38.56, -121.47), ('Colorado', 'Denver', 39.74, -104.98), ('Connecticut', 'Hartford', 41.77, -72.68), ('Delaware', 'Dover', 39.16, -75.53), ('Florida', 'Tallahassee', 30.45, -84.27), ('Georgia', 'Atlanta', 33.76, -84.39), ('Hawaii', 'Honolulu', 21.31, -157.83), ('Idaho', 'Boise', 43.61, -116.24), ('Illinois', 'Springfield', 39.78, -89.65), ('Indiana', 'Indianapolis', 39.79, -86.15), ('Iowa', 'Des Moines', 41.59, -93.62), ('Kansas', 'Topeka', 39.04, -95.69), ('Kentucky', 'Frankfort', 38.2, -84.86), ('Louisiana', 'Baton Rouge', 30.46, -91.14), ('Maine', 'Augusta', 44.32, -69.77), ('Maryland', 'Annapolis', 38.97, -76.5), ('Massachusetts', 'Boston', 42.24, -71.03), ('Michigan', 'Lansing', 42.73, -84.55), ('Minnesota', 'Saint Paul', 44.95, -93.09), ('Mississippi', 'Jackson', 32.32, -90.21), ('Missouri', 'Jefferson City', 38.57, -92.19), ('Montana', 'Helana', 46.6, -112.03), ('Nebraska', 'Lincoln', 40.81, -96.68), ('Nevada', 'Carson City', 39.16, -119.75), ('New Hampshire', 'Concord', 43.22, -71.55), ('New Jersey', 'Trenton', 40.22, -74.76), ('New Mexico', 'Santa Fe', 35.67, -105.96), ('New York', 'Albany', 42.66, -73.78), ('North Carolina', 'Raleigh', 35.77, -78.64), ('North Dakota', 'Bismarck', 48.81, -100.78), ('Ohio', 'Columbus', 39.96, -83.0), ('Oklahoma', 'Oklahoma City', 35.48, -97.53), ('Oregon', 'Salem', 44.93, -123.03), ('Pennsylvania', 'Harrisburg', 40.27, -76.88), ('Rhode Island', 'Providence', 41.82, -71.42), ('South Carolina', 'Columbia', 34.0, -81.03), ('South Dakota', 'Pierre', 44.37, -100.34), ('Tennessee', 'Nashville', 36.16, -86.78), ('Texas', 'Austin', 30.27, -97.75), ('Utah', 'Salt Lake City', 40.75, -111.89), ('Vermont', 'Montpelier', 44.27, -72.57), ('Virginia', 'Richmond', 37.54, -77.46), ('Washington', 'Olympia', 47.04, -122.89), ('West Virginia', 'Charleston', 38.35, -81.63), ('Wisconsin', 'Madison', 43.07, -89.38), ('Wyoming', 'Cheyenne', 41.15, -104.8)]\n"
     ]
    }
   ],
   "source": [
    "def print_cities(road_map):\n",
    "    \"\"\"\n",
    "    Prints a list of cities, along with their locations. \n",
    "    Print only one or two digits after the decimal point.\n",
    "    \"\"\"\n",
    "    \n",
    "    road_map2 = [(i[0],i[1],round(float(i[2]),2),round(float(i[3]),2)) for i in road_map]\n",
    "    road_map = road_map2\n",
    "#round a float number not float a rounded string!!\n",
    "\n",
    "    return road_map\n",
    "\n",
    "road_map = print_cities(road_map)\n",
    "print(road_map)"
   ]
  },
  {
   "cell_type": "code",
   "execution_count": 4,
   "metadata": {
    "scrolled": true
   },
   "outputs": [],
   "source": [
    "def compute_total_distance(road_map):\n",
    "    \"\"\"\n",
    "    Returns, as a floating point number, the sum of the distances of all \n",
    "    the connections in the `road_map`. Remember that it's a cycle, so that \n",
    "    (for example) in the initial `road_map`, Wyoming connects to Alabama...\n",
    "    \"\"\"\n",
    "    \n",
    "    #to check for empty road_map\n",
    "    if len(road_map) == 0: \n",
    "        return \"Empty 'road_map', please input correct format: [('state','city','latitude','longitude')].\"\n",
    "    \n",
    "    #to check if longitude and latitude is in float() type or if list is in correct format. \n",
    "    for i in road_map:\n",
    "        if type(i[2]) == str or type(i[3]) == str:\n",
    "            return \"Incorrect type/format. 'road_map' index[2] and [3] must be of float() types.\"\n",
    "        if type(i[2]) == int or type(i[3]) ==int:\n",
    "            return \"Incorrect type/format. 'road_map' index[2] and [3] must be of float() types.\"      \n",
    "        if len(i)!= 4: \n",
    "            return \"List does not follow format [(state, city, latitude, longitude)]\" #may not be needed. \n",
    "        \n",
    "    total_distance = 0\n",
    "    x1 = road_map[0][2] #float or str?\n",
    "    y1 = road_map[0][3]\n",
    "    \n",
    "    x2 = 0\n",
    "    y2 = 0\n",
    "\n",
    "    for i in range(len(road_map)): \n",
    "        x2 = road_map[(i + 1) % len(road_map)][2]\n",
    "        y2 = road_map[(i + 1) % len(road_map)][3]\n",
    "        total_distance += math.sqrt((x1-x2)**2 + (y1-y2)**2)    \n",
    "        x1 = x2\n",
    "        y1 = y2\n",
    "            \n",
    "    return round(float(total_distance),2)\n",
    "\n",
    "#print(compute_total_distance(road_map))\n",
    "#road_map11 = [(\"Kentucky\", \"Frank\", 38.197274, -84.86311),\\\n",
    "#                (\"Delaware\", \"Dover\", 39.161921, -75.526755),\\\n",
    "#                (\"Minnesota\", \"Saint Paul\", 44.95, -93.094)]\n",
    "#road_map2 = []\n",
    "#print(compute_total_distance(road_map11))\n",
    "#print(compute_total_distance(road_map2))\n",
    "#print(compute_total_distance(road_map))"
   ]
  },
  {
   "cell_type": "code",
   "execution_count": 6,
   "metadata": {
    "scrolled": true
   },
   "outputs": [
    {
     "name": "stdout",
     "output_type": "stream",
     "text": [
      "([('Alaska', 'Juneau', 58.3, -134.42), ('Alabama', 'Montgomery', 32.36, -86.28), ('Arizona', 'Phoenix', 33.45, -112.07), ('Arkansas', 'Little Rock', 34.74, -92.33), ('California', 'Sacramento', 38.56, -121.47), ('Colorado', 'Denver', 39.74, -104.98), ('Connecticut', 'Hartford', 41.77, -72.68), ('Delaware', 'Dover', 39.16, -75.53), ('Florida', 'Tallahassee', 30.45, -84.27), ('Georgia', 'Atlanta', 33.76, -84.39), ('Hawaii', 'Honolulu', 21.31, -157.83), ('Idaho', 'Boise', 43.61, -116.24), ('Illinois', 'Springfield', 39.78, -89.65), ('Indiana', 'Indianapolis', 39.79, -86.15), ('Iowa', 'Des Moines', 41.59, -93.62), ('Kansas', 'Topeka', 39.04, -95.69), ('Kentucky', 'Frankfort', 38.2, -84.86), ('Louisiana', 'Baton Rouge', 30.46, -91.14), ('Maine', 'Augusta', 44.32, -69.77), ('Maryland', 'Annapolis', 38.97, -76.5), ('Massachusetts', 'Boston', 42.24, -71.03), ('Michigan', 'Lansing', 42.73, -84.55), ('Minnesota', 'Saint Paul', 44.95, -93.09), ('Mississippi', 'Jackson', 32.32, -90.21), ('Missouri', 'Jefferson City', 38.57, -92.19), ('Montana', 'Helana', 46.6, -112.03), ('Nebraska', 'Lincoln', 40.81, -96.68), ('Nevada', 'Carson City', 39.16, -119.75), ('New Hampshire', 'Concord', 43.22, -71.55), ('New Jersey', 'Trenton', 40.22, -74.76), ('New Mexico', 'Santa Fe', 35.67, -105.96), ('New York', 'Albany', 42.66, -73.78), ('North Carolina', 'Raleigh', 35.77, -78.64), ('North Dakota', 'Bismarck', 48.81, -100.78), ('Ohio', 'Columbus', 39.96, -83.0), ('Oklahoma', 'Oklahoma City', 35.48, -97.53), ('Oregon', 'Salem', 44.93, -123.03), ('Pennsylvania', 'Harrisburg', 40.27, -76.88), ('Rhode Island', 'Providence', 41.82, -71.42), ('South Carolina', 'Columbia', 34.0, -81.03), ('South Dakota', 'Pierre', 44.37, -100.34), ('Tennessee', 'Nashville', 36.16, -86.78), ('Texas', 'Austin', 30.27, -97.75), ('Utah', 'Salt Lake City', 40.75, -111.89), ('Vermont', 'Montpelier', 44.27, -72.57), ('Virginia', 'Richmond', 37.54, -77.46), ('Washington', 'Olympia', 47.04, -122.89), ('West Virginia', 'Charleston', 38.35, -81.63), ('Wisconsin', 'Madison', 43.07, -89.38), ('Wyoming', 'Cheyenne', 41.15, -104.8)], 1066.26)\n"
     ]
    }
   ],
   "source": [
    "def swap_cities(road_map, index1, index2):\n",
    "\n",
    "    #to check for empty road_map\n",
    "    if len(road_map) == 0: \n",
    "        return \"Empty 'road_map', please input correct format: [('state','city','latitude','longitude')].\"\n",
    "    \n",
    "    #to check if longitude and latitude is in float() type and if road_map follows correct format. \n",
    "    for i in road_map:\n",
    "        if type(i[2]) != float or type(i[3]) != float:\n",
    "            return \"Incorrect type. 'road_map' index[2] and [3] must be of float() types.\"\n",
    "        if type(i[0]) != str or type(i[1]) != str:\n",
    "            return \"Incorrect type. 'road_map' index[0] and [1] must be of str() types.\"\n",
    "        if len(i)!= 4: \n",
    "            return \"List does not follow format [(state, city, latitude, longitude)]\"\n",
    "        \n",
    "        \n",
    "    #checks if inputted index1 and index2 is of int type.     \n",
    "    if type(index1)!= int or type(index2) != int:\n",
    "        return \"Input: index1 or index2 is of wrong type. Input must be an int.\"\n",
    "            \n",
    "            \n",
    "    #print(str(road_map)+'\\n')\n",
    "    new_road_map = [(i) for i in road_map]\n",
    "    new_road_map [index1],new_road_map [index2] = new_road_map [index2],new_road_map [index1]\n",
    "    \n",
    "    new_total_distance = compute_total_distance(new_road_map)\n",
    "            #count+=1\n",
    "        \n",
    "    #print(str(road_map)+'\\n')\n",
    "        \n",
    "    return (new_road_map, new_total_distance)\n",
    "print(swap_cities(road_map,0,1))\n",
    "#print('\\n')\n",
    "#print(road_map)\n",
    "\n",
    "#print(road_map2)\n",
    "#swap_cities = (swap_cities(print_cities,1,1))\n",
    "#print(swap_cities)"
   ]
  },
  {
   "cell_type": "code",
   "execution_count": 7,
   "metadata": {
    "scrolled": true
   },
   "outputs": [],
   "source": [
    "def shift_cities(road_map):\n",
    "    \"\"\"\n",
    "    For every index i in the `road_map`, the city at the position i moves\n",
    "    to the position i+1. The city at the last position moves to the position\n",
    "    0. Return the new road map. \n",
    "    \"\"\"\n",
    "    \n",
    "    #road_map = [road_map[-1]] + road_map[:-1]\n",
    "    #print(road_map)\n",
    "    \n",
    "    #ROAD MAP DOES NOT CHANGE!!FIX THIS!\n",
    "#     road_map2=[]\n",
    "#     for i in road_map: \n",
    "#         road_map2.append(i)\n",
    "    if len(road_map) == 0: \n",
    "        return \"Empty 'road_map', please input correct format: [('state','city','latitude','longitude')].\"\n",
    "    \n",
    "    for i in road_map:\n",
    "        if type(i[2]) != float or type(i[3]) != float:\n",
    "            return \"Incorrect type. 'road_map' index[2] and [3] must be of float() types.\"\n",
    "        if type(i[0]) != str or type(i[1]) != str:\n",
    "            return \"Incorrect type. 'road_map' index[0] and [1] must be of str() types.\"\n",
    "        if len(i)!= 4: \n",
    "            return \"List does not follow format [(state, city, latitude, longitude)]\"\n",
    "     #road_map = road_map2\n",
    "    \n",
    "    new_road_map = [(i) for i in road_map]\n",
    "    \n",
    "    new_road_map.insert(0,new_road_map.pop())\n",
    "    \n",
    "    return  new_road_map\n",
    "#print(shift_cities(road_map))\n",
    "#rm_map = shift_cities(rm)\n",
    "#print(shift_cities(rm_map))\n",
    "#print(shift_cities(rm_map))\n",
    "#print(shift_cities(rm_map))"
   ]
  },
  {
   "cell_type": "markdown",
   "metadata": {
    "scrolled": true
   },
   "source": [
    "def find_best_cycle(road_map):\n",
    "    \"\"\"\n",
    "    Using a combination of `swap_cities` and `shift_cities`, \n",
    "    try `10000` swaps/shifts, and each time keep the best cycle found so far. \n",
    "    After `10000` swaps/shifts, return the best cycle found so far.\n",
    "    Use randomly generated indices for swapping.\n",
    "    \"\"\"\n",
    "\n",
    "    n = 10000\n",
    "    count = 0\n",
    "    new_cycle = 0\n",
    "    best_cycle = 1060.14\n",
    "    best_cycle_road_map = road_map\n",
    "    \n",
    "    while count!= n:\n",
    "        n1 = int((len(road_map)) * rand.random())\n",
    "        n2 = int((len(road_map)) * rand.random())\n",
    "        #print('start cycle: ' + str(best_cycle))\n",
    "        #print(str(best_cycle_road_map)+'\\n')\n",
    "        a = swap_cities(best_cycle_road_map, n1, n2)\n",
    "        #print('swapped total: ' + str(a[1]))\n",
    "        #print(n1,n2)\n",
    "        #print (a[1])\n",
    "        #print(type(a[1]))\n",
    "        #print(type(a[0]))\n",
    "        \n",
    "        if a[1] < best_cycle: \n",
    "            best_cycle = a[1]\n",
    "            best_cycle_road_map = a[0]\n",
    "            #print('\\n'+'second cycle: ' + str(best_cycle))\n",
    "            #print('second cycle: ' + str(best_cycle_road_map)+ '\\n')\n",
    "        #maybe check total distance again here above?: \n",
    "        \n",
    "        b = shift_cities(best_cycle_road_map)\n",
    "        \n",
    "        #is this doing it properly and storing the right road_map?\n",
    "        #print('\\n Shift_cycle: ' + str(b))\n",
    "        new_cycle = compute_total_distance(b)\n",
    "        print('shifted_new cycle: ' + str(new_cycle))\n",
    "        if new_cycle < best_cycle:\n",
    "            best_cycle = new_cycle\n",
    "            \n",
    "            best_cycle_road_map = b\n",
    "            #print(n1,n2,b, new_cycle)\n",
    "        count+=1\n",
    "        #print('count: ' + str(count))\n",
    "        #print(best_cycle_road_map)\n",
    "    return ('Total distance: ' + str(best_cycle)), best_cycle_road_map\n",
    "\"\"\"store best cycle and best shift/swap, compare and replace. \"\"\"\n",
    "t1 = find_best_cycle(road_map)\n",
    "print(t1)\n",
    "\n",
    "\"\"\"when swap cities is called, use the best cycle map!, not road_map!,  best cycle roapmap = roadmap!\"\"\"\n",
    "\n",
    "\"\"\"Works when swap cities allows index1==index2\n",
    "    is this also calculating [49] -> [0]???\n",
    "    FIX THIS - shift_cities not working properly in this function\"\"\""
   ]
  },
  {
   "cell_type": "code",
   "execution_count": 23,
   "metadata": {},
   "outputs": [
    {
     "name": "stdout",
     "output_type": "stream",
     "text": [
      "('Total distance: 332.92', [('Nevada', 'Carson City', 39.16, -119.75), ('California', 'Sacramento', 38.56, -121.47), ('Hawaii', 'Honolulu', 21.31, -157.83), ('Alaska', 'Juneau', 58.3, -134.42), ('Washington', 'Olympia', 47.04, -122.89), ('Oregon', 'Salem', 44.93, -123.03), ('Montana', 'Helana', 46.6, -112.03), ('North Dakota', 'Bismarck', 48.81, -100.78), ('Nebraska', 'Lincoln', 40.81, -96.68), ('Oklahoma', 'Oklahoma City', 35.48, -97.53), ('Kansas', 'Topeka', 39.04, -95.69), ('Iowa', 'Des Moines', 41.59, -93.62), ('Missouri', 'Jefferson City', 38.57, -92.19), ('Arkansas', 'Little Rock', 34.74, -92.33), ('Alabama', 'Montgomery', 32.36, -86.28), ('Florida', 'Tallahassee', 30.45, -84.27), ('Georgia', 'Atlanta', 33.76, -84.39), ('South Carolina', 'Columbia', 34.0, -81.03), ('North Carolina', 'Raleigh', 35.77, -78.64), ('Virginia', 'Richmond', 37.54, -77.46), ('Delaware', 'Dover', 39.16, -75.53), ('New Jersey', 'Trenton', 40.22, -74.76), ('Maryland', 'Annapolis', 38.97, -76.5), ('West Virginia', 'Charleston', 38.35, -81.63), ('Ohio', 'Columbus', 39.96, -83.0), ('Michigan', 'Lansing', 42.73, -84.55), ('Pennsylvania', 'Harrisburg', 40.27, -76.88), ('New York', 'Albany', 42.66, -73.78), ('Vermont', 'Montpelier', 44.27, -72.57), ('New Hampshire', 'Concord', 43.22, -71.55), ('Maine', 'Augusta', 44.32, -69.77), ('Massachusetts', 'Boston', 42.24, -71.03), ('Rhode Island', 'Providence', 41.82, -71.42), ('Connecticut', 'Hartford', 41.77, -72.68), ('Colorado', 'Denver', 39.74, -104.98), ('New Mexico', 'Santa Fe', 35.67, -105.96), ('Arizona', 'Phoenix', 33.45, -112.07), ('Texas', 'Austin', 30.27, -97.75), ('Louisiana', 'Baton Rouge', 30.46, -91.14), ('Mississippi', 'Jackson', 32.32, -90.21), ('Tennessee', 'Nashville', 36.16, -86.78), ('Kentucky', 'Frankfort', 38.2, -84.86), ('Indiana', 'Indianapolis', 39.79, -86.15), ('Illinois', 'Springfield', 39.78, -89.65), ('Wisconsin', 'Madison', 43.07, -89.38), ('Minnesota', 'Saint Paul', 44.95, -93.09), ('South Dakota', 'Pierre', 44.37, -100.34), ('Wyoming', 'Cheyenne', 41.15, -104.8), ('Utah', 'Salt Lake City', 40.75, -111.89), ('Idaho', 'Boise', 43.61, -116.24)])\n"
     ]
    }
   ],
   "source": [
    "def find_best_cycle(road_map):\n",
    "\n",
    "    n = 10000\n",
    "    count = 0\n",
    "    new_cycle = 0\n",
    "    best_cycle = 1060.14\n",
    "    best_cycle_road_map = road_map\n",
    "    \n",
    "    while count!= n:\n",
    "        n1 = int((len(road_map)) * rand.random())\n",
    "        n2 = int((len(road_map)) * rand.random())\n",
    "\n",
    "        a = swap_cities(best_cycle_road_map, n1, n2)\n",
    "\n",
    "        \n",
    "        if a[1] < best_cycle: \n",
    "            best_cycle = a[1]\n",
    "            best_cycle_road_map = a[0]\n",
    "\n",
    "        \n",
    "        b = shift_cities(best_cycle_road_map)\n",
    "        \n",
    "\n",
    "        new_cycle = compute_total_distance(b)\n",
    "        \n",
    "        if new_cycle < best_cycle:\n",
    "            best_cycle = new_cycle\n",
    "            \n",
    "            best_cycle_road_map = b\n",
    "\n",
    "        count+=1\n",
    "\n",
    "    return ('Total distance: ' + str(best_cycle)), best_cycle_road_map\n",
    "#store best cycle and best shift/swap, compare and replace. \n",
    "t1 = find_best_cycle(road_map)\n",
    "print(t1)\n",
    "\n"
   ]
  },
  {
   "cell_type": "code",
   "execution_count": 33,
   "metadata": {},
   "outputs": [
    {
     "ename": "NameError",
     "evalue": "name 'road_map2' is not defined",
     "output_type": "error",
     "traceback": [
      "\u001b[0;31m---------------------------------------------------------------------------\u001b[0m",
      "\u001b[0;31mNameError\u001b[0m                                 Traceback (most recent call last)",
      "\u001b[0;32m<ipython-input-33-93ee323ce659>\u001b[0m in \u001b[0;36m<module>\u001b[0;34m\u001b[0m\n\u001b[1;32m     25\u001b[0m \u001b[0;34m\u001b[0m\u001b[0m\n\u001b[1;32m     26\u001b[0m \u001b[0;34m\u001b[0m\u001b[0m\n\u001b[0;32m---> 27\u001b[0;31m \u001b[0mprint_map\u001b[0m\u001b[0;34m(\u001b[0m\u001b[0mroad_map2\u001b[0m\u001b[0;34m)\u001b[0m\u001b[0;34m\u001b[0m\u001b[0;34m\u001b[0m\u001b[0m\n\u001b[0m",
      "\u001b[0;31mNameError\u001b[0m: name 'road_map2' is not defined"
     ]
    }
   ],
   "source": [
    "def print_map(road_map):\n",
    "    \"\"\"\n",
    "    Prints, in an easily understandable format, the cities and \n",
    "    their connections, along with the cost for each connection \n",
    "    and the total cost.\n",
    "    \n",
    "    ***need to fix this for new functions!!!!***\n",
    "    \"\"\"\n",
    "\n",
    "    for i in range(len(road_map)): \n",
    "        x1 = road_map[i][2]\n",
    "        y1 = road_map[i][3]\n",
    "        x2 = 0\n",
    "        y2 = 0\n",
    "        \n",
    "        #print(x1, x2, y1,y2)\n",
    "        x2 = road_map[(i + 1) % len(road_map)][2]\n",
    "        y2 = road_map[(i + 1) % len(road_map)][3]\n",
    "        #print(x2,y2)\n",
    "        distance = round((math.sqrt((x1-x2)**2 + (y1-y2)**2)),2) \n",
    "        print('Distance between '+ str(road_map[i][1]) + ' -> ' + str(road_map[(i + 1) % len(road_map)][1]) +' is '+ str(distance))\n",
    "\n",
    "    \n",
    "\n",
    "    total_distance = compute_total_distance(road_map)    \n",
    "    print ('Total distance: ' + str(total_distance))\n",
    "        \n",
    "\n",
    "#print_map(road_map2)"
   ]
  },
  {
   "cell_type": "code",
   "execution_count": 29,
   "metadata": {},
   "outputs": [],
   "source": [
    "def main():\n",
    "    \"\"\"\n",
    "    Reads in, and prints out, the city data, then creates the \"best\"\n",
    "    cycle and prints it out.\n",
    "    \"\"\"\n",
    "\n",
    "    file = input(\"Please input your file name: \\n\")\n",
    "    \n",
    "    road_map = read_cities(file)\n",
    "    \n",
    "    #print_roadmap = print_cities(road_map)\n",
    "    \n",
    "    road_map2 = print_cities(road_map)\n",
    "    print('\\n'+str(road_map2) +  '\\n')\n",
    "    \n",
    "    best_cycle = find_best_cycle(road_map2)\n",
    "    \n",
    "    print(print_map(best_cycle))\n",
    "    \n",
    "    return (best_cycle)\n",
    "\n",
    "\n",
    "#if _name_ == \"_main_\": #keep this in\n",
    "#        main()\n",
    "#        return \"main name\n",
    "\n",
    "\n"
   ]
  },
  {
   "cell_type": "code",
   "execution_count": 30,
   "metadata": {},
   "outputs": [
    {
     "name": "stdout",
     "output_type": "stream",
     "text": [
      "Please input your file name: \n",
      "city-data.txt\n",
      "\n",
      "[('Alabama', 'Montgomery', 32.36, -86.28), ('Alaska', 'Juneau', 58.3, -134.42), ('Arizona', 'Phoenix', 33.45, -112.07), ('Arkansas', 'Little Rock', 34.74, -92.33), ('California', 'Sacramento', 38.56, -121.47), ('Colorado', 'Denver', 39.74, -104.98), ('Connecticut', 'Hartford', 41.77, -72.68), ('Delaware', 'Dover', 39.16, -75.53), ('Florida', 'Tallahassee', 30.45, -84.27), ('Georgia', 'Atlanta', 33.76, -84.39), ('Hawaii', 'Honolulu', 21.31, -157.83), ('Idaho', 'Boise', 43.61, -116.24), ('Illinois', 'Springfield', 39.78, -89.65), ('Indiana', 'Indianapolis', 39.79, -86.15), ('Iowa', 'Des Moines', 41.59, -93.62), ('Kansas', 'Topeka', 39.04, -95.69), ('Kentucky', 'Frankfort', 38.2, -84.86), ('Louisiana', 'Baton Rouge', 30.46, -91.14), ('Maine', 'Augusta', 44.32, -69.77), ('Maryland', 'Annapolis', 38.97, -76.5), ('Massachusetts', 'Boston', 42.24, -71.03), ('Michigan', 'Lansing', 42.73, -84.55), ('Minnesota', 'Saint Paul', 44.95, -93.09), ('Mississippi', 'Jackson', 32.32, -90.21), ('Missouri', 'Jefferson City', 38.57, -92.19), ('Montana', 'Helana', 46.6, -112.03), ('Nebraska', 'Lincoln', 40.81, -96.68), ('Nevada', 'Carson City', 39.16, -119.75), ('New Hampshire', 'Concord', 43.22, -71.55), ('New Jersey', 'Trenton', 40.22, -74.76), ('New Mexico', 'Santa Fe', 35.67, -105.96), ('New York', 'Albany', 42.66, -73.78), ('North Carolina', 'Raleigh', 35.77, -78.64), ('North Dakota', 'Bismarck', 48.81, -100.78), ('Ohio', 'Columbus', 39.96, -83.0), ('Oklahoma', 'Oklahoma City', 35.48, -97.53), ('Oregon', 'Salem', 44.93, -123.03), ('Pennsylvania', 'Harrisburg', 40.27, -76.88), ('Rhode Island', 'Providence', 41.82, -71.42), ('South Carolina', 'Columbia', 34.0, -81.03), ('South Dakota', 'Pierre', 44.37, -100.34), ('Tennessee', 'Nashville', 36.16, -86.78), ('Texas', 'Austin', 30.27, -97.75), ('Utah', 'Salt Lake City', 40.75, -111.89), ('Vermont', 'Montpelier', 44.27, -72.57), ('Virginia', 'Richmond', 37.54, -77.46), ('Washington', 'Olympia', 47.04, -122.89), ('West Virginia', 'Charleston', 38.35, -81.63), ('Wisconsin', 'Madison', 43.07, -89.38), ('Wyoming', 'Cheyenne', 41.15, -104.8)]\n",
      "\n"
     ]
    },
    {
     "ename": "TypeError",
     "evalue": "unsupported operand type(s) for -: 'str' and 'tuple'",
     "output_type": "error",
     "traceback": [
      "\u001b[0;31m---------------------------------------------------------------------------\u001b[0m",
      "\u001b[0;31mTypeError\u001b[0m                                 Traceback (most recent call last)",
      "\u001b[0;32m<ipython-input-30-98707d161619>\u001b[0m in \u001b[0;36m<module>\u001b[0;34m\u001b[0m\n\u001b[0;32m----> 1\u001b[0;31m \u001b[0mprint\u001b[0m\u001b[0;34m(\u001b[0m\u001b[0mmain\u001b[0m\u001b[0;34m(\u001b[0m\u001b[0;34m)\u001b[0m\u001b[0;34m)\u001b[0m\u001b[0;34m\u001b[0m\u001b[0;34m\u001b[0m\u001b[0m\n\u001b[0m",
      "\u001b[0;32m<ipython-input-29-601e4322b0f8>\u001b[0m in \u001b[0;36mmain\u001b[0;34m()\u001b[0m\n\u001b[1;32m     16\u001b[0m     \u001b[0mbest_cycle\u001b[0m \u001b[0;34m=\u001b[0m \u001b[0mfind_best_cycle\u001b[0m\u001b[0;34m(\u001b[0m\u001b[0mroad_map2\u001b[0m\u001b[0;34m)\u001b[0m\u001b[0;34m\u001b[0m\u001b[0;34m\u001b[0m\u001b[0m\n\u001b[1;32m     17\u001b[0m \u001b[0;34m\u001b[0m\u001b[0m\n\u001b[0;32m---> 18\u001b[0;31m     \u001b[0mprint\u001b[0m\u001b[0;34m(\u001b[0m\u001b[0mprint_map\u001b[0m\u001b[0;34m(\u001b[0m\u001b[0mbest_cycle\u001b[0m\u001b[0;34m)\u001b[0m\u001b[0;34m)\u001b[0m\u001b[0;34m\u001b[0m\u001b[0;34m\u001b[0m\u001b[0m\n\u001b[0m\u001b[1;32m     19\u001b[0m \u001b[0;34m\u001b[0m\u001b[0m\n\u001b[1;32m     20\u001b[0m     \u001b[0;32mreturn\u001b[0m \u001b[0;34m(\u001b[0m\u001b[0mbest_cycle\u001b[0m\u001b[0;34m)\u001b[0m\u001b[0;34m\u001b[0m\u001b[0;34m\u001b[0m\u001b[0m\n",
      "\u001b[0;32m<ipython-input-28-24a65746be14>\u001b[0m in \u001b[0;36mprint_map\u001b[0;34m(road_map)\u001b[0m\n\u001b[1;32m     16\u001b[0m         \u001b[0my2\u001b[0m \u001b[0;34m=\u001b[0m \u001b[0mroad_map\u001b[0m\u001b[0;34m[\u001b[0m\u001b[0;34m(\u001b[0m\u001b[0mi\u001b[0m \u001b[0;34m+\u001b[0m \u001b[0;36m1\u001b[0m\u001b[0;34m)\u001b[0m \u001b[0;34m%\u001b[0m \u001b[0mlen\u001b[0m\u001b[0;34m(\u001b[0m\u001b[0mroad_map\u001b[0m\u001b[0;34m)\u001b[0m\u001b[0;34m]\u001b[0m\u001b[0;34m[\u001b[0m\u001b[0;36m3\u001b[0m\u001b[0;34m]\u001b[0m\u001b[0;34m\u001b[0m\u001b[0;34m\u001b[0m\u001b[0m\n\u001b[1;32m     17\u001b[0m         \u001b[0;31m#print(x2,y2)\u001b[0m\u001b[0;34m\u001b[0m\u001b[0;34m\u001b[0m\u001b[0;34m\u001b[0m\u001b[0m\n\u001b[0;32m---> 18\u001b[0;31m         \u001b[0mdistance\u001b[0m \u001b[0;34m=\u001b[0m \u001b[0mround\u001b[0m\u001b[0;34m(\u001b[0m\u001b[0;34m(\u001b[0m\u001b[0mmath\u001b[0m\u001b[0;34m.\u001b[0m\u001b[0msqrt\u001b[0m\u001b[0;34m(\u001b[0m\u001b[0;34m(\u001b[0m\u001b[0mx1\u001b[0m\u001b[0;34m-\u001b[0m\u001b[0mx2\u001b[0m\u001b[0;34m)\u001b[0m\u001b[0;34m**\u001b[0m\u001b[0;36m2\u001b[0m \u001b[0;34m+\u001b[0m \u001b[0;34m(\u001b[0m\u001b[0my1\u001b[0m\u001b[0;34m-\u001b[0m\u001b[0my2\u001b[0m\u001b[0;34m)\u001b[0m\u001b[0;34m**\u001b[0m\u001b[0;36m2\u001b[0m\u001b[0;34m)\u001b[0m\u001b[0;34m)\u001b[0m\u001b[0;34m,\u001b[0m\u001b[0;36m2\u001b[0m\u001b[0;34m)\u001b[0m\u001b[0;34m\u001b[0m\u001b[0;34m\u001b[0m\u001b[0m\n\u001b[0m\u001b[1;32m     19\u001b[0m         \u001b[0mprint\u001b[0m\u001b[0;34m(\u001b[0m\u001b[0;34m'Distance between '\u001b[0m\u001b[0;34m+\u001b[0m \u001b[0mstr\u001b[0m\u001b[0;34m(\u001b[0m\u001b[0mroad_map\u001b[0m\u001b[0;34m[\u001b[0m\u001b[0mi\u001b[0m\u001b[0;34m]\u001b[0m\u001b[0;34m[\u001b[0m\u001b[0;36m1\u001b[0m\u001b[0;34m]\u001b[0m\u001b[0;34m)\u001b[0m \u001b[0;34m+\u001b[0m \u001b[0;34m' -> '\u001b[0m \u001b[0;34m+\u001b[0m \u001b[0mstr\u001b[0m\u001b[0;34m(\u001b[0m\u001b[0mroad_map\u001b[0m\u001b[0;34m[\u001b[0m\u001b[0;34m(\u001b[0m\u001b[0mi\u001b[0m \u001b[0;34m+\u001b[0m \u001b[0;36m1\u001b[0m\u001b[0;34m)\u001b[0m \u001b[0;34m%\u001b[0m \u001b[0mlen\u001b[0m\u001b[0;34m(\u001b[0m\u001b[0mroad_map\u001b[0m\u001b[0;34m)\u001b[0m\u001b[0;34m]\u001b[0m\u001b[0;34m[\u001b[0m\u001b[0;36m1\u001b[0m\u001b[0;34m]\u001b[0m\u001b[0;34m)\u001b[0m \u001b[0;34m+\u001b[0m\u001b[0;34m' is '\u001b[0m\u001b[0;34m+\u001b[0m \u001b[0mstr\u001b[0m\u001b[0;34m(\u001b[0m\u001b[0mdistance\u001b[0m\u001b[0;34m)\u001b[0m\u001b[0;34m)\u001b[0m\u001b[0;34m\u001b[0m\u001b[0;34m\u001b[0m\u001b[0m\n\u001b[1;32m     20\u001b[0m \u001b[0;34m\u001b[0m\u001b[0m\n",
      "\u001b[0;31mTypeError\u001b[0m: unsupported operand type(s) for -: 'str' and 'tuple'"
     ]
    }
   ],
   "source": [
    "print(main())"
   ]
  },
  {
   "cell_type": "code",
   "execution_count": 23,
   "metadata": {},
   "outputs": [],
   "source": [
    "def visualise(road_map):\n",
    "    import tkinter as tk\n",
    "    import matplotlib \n",
    "    import matplotlib.pyplot as plt\n",
    "    from matplotlib.path import Path\n",
    "    import matplotlib.patches as patches\n",
    "    from matplotlib.pyplot import figure\n",
    "\n",
    "\n",
    "# print(visualise(best_cycle_road_map))"
   ]
  },
  {
   "cell_type": "code",
   "execution_count": null,
   "metadata": {},
   "outputs": [],
   "source": []
  }
 ],
 "metadata": {
  "kernelspec": {
   "display_name": "Python 3",
   "language": "python",
   "name": "python3"
  },
  "language_info": {
   "codemirror_mode": {
    "name": "ipython",
    "version": 3
   },
   "file_extension": ".py",
   "mimetype": "text/x-python",
   "name": "python",
   "nbconvert_exporter": "python",
   "pygments_lexer": "ipython3",
   "version": "3.7.4"
  }
 },
 "nbformat": 4,
 "nbformat_minor": 2
}
