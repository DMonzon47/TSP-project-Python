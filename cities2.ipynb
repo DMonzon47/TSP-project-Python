{
 "cells": [
  {
   "cell_type": "code",
   "execution_count": 49,
   "metadata": {},
   "outputs": [],
   "source": [
    "import random as rand\n",
    "import math"
   ]
  },
  {
   "cell_type": "code",
   "execution_count": 86,
   "metadata": {},
   "outputs": [
    {
     "name": "stdout",
     "output_type": "stream",
     "text": [
      "[['Alabama', 'Montgomery', '32.361538', '-86.279118'], ['Alaska', 'Juneau', '58.301935', '-134.41974'], ['Arizona', 'Phoenix', '33.448457', '-112.073844'], ['Arkansas', 'Little Rock', '34.736009', '-92.331122'], ['California', 'Sacramento', '38.555605', '-121.468926'], ['Colorado', 'Denver', '39.7391667', '-104.984167'], ['Connecticut', 'Hartford', '41.767', '-72.677'], ['Delaware', 'Dover', '39.161921', '-75.526755'], ['Florida', 'Tallahassee', '30.4518', '-84.27277'], ['Georgia', 'Atlanta', '33.76', '-84.39'], ['Hawaii', 'Honolulu', '21.30895', '-157.826182'], ['Idaho', 'Boise', '43.613739', '-116.237651'], ['Illinois', 'Springfield', '39.78325', '-89.650373'], ['Indiana', 'Indianapolis', '39.790942', '-86.147685'], ['Iowa', 'Des Moines', '41.590939', '-93.620866'], ['Kansas', 'Topeka', '39.04', '-95.69'], ['Kentucky', 'Frankfort', '38.197274', '-84.86311'], ['Louisiana', 'Baton Rouge', '30.45809', '-91.140229'], ['Maine', 'Augusta', '44.323535', '-69.765261'], ['Maryland', 'Annapolis', '38.972945', '-76.501157'], ['Massachusetts', 'Boston', '42.2352', '-71.0275'], ['Michigan', 'Lansing', '42.7335', '-84.5467'], ['Minnesota', 'Saint Paul', '44.95', '-93.094'], ['Mississippi', 'Jackson', '32.32', '-90.207'], ['Missouri', 'Jefferson City', '38.572954', '-92.189283'], ['Montana', 'Helana', '46.595805', '-112.027031'], ['Nebraska', 'Lincoln', '40.809868', '-96.675345'], ['Nevada', 'Carson City', '39.160949', '-119.753877'], ['New Hampshire', 'Concord', '43.220093', '-71.549127'], ['New Jersey', 'Trenton', '40.221741', '-74.756138'], ['New Mexico', 'Santa Fe', '35.667231', '-105.964575'], ['New York', 'Albany', '42.659829', '-73.781339'], ['North Carolina', 'Raleigh', '35.771', '-78.638'], ['North Dakota', 'Bismarck', '48.813343', '-100.779004'], ['Ohio', 'Columbus', '39.962245', '-83.000647'], ['Oklahoma', 'Oklahoma City', '35.482309', '-97.534994'], ['Oregon', 'Salem', '44.931109', '-123.029159'], ['Pennsylvania', 'Harrisburg', '40.269789', '-76.875613'], ['Rhode Island', 'Providence', '41.82355', '-71.422132'], ['South Carolina', 'Columbia', '34', '-81.035'], ['South Dakota', 'Pierre', '44.367966', '-100.336378'], ['Tennessee', 'Nashville', '36.165', '-86.784'], ['Texas', 'Austin', '30.266667', '-97.75'], ['Utah', 'Salt Lake City', '40.7547', '-111.892622'], ['Vermont', 'Montpelier', '44.26639', '-72.57194'], ['Virginia', 'Richmond', '37.54', '-77.46'], ['Washington', 'Olympia', '47.042418', '-122.893077'], ['West Virginia', 'Charleston', '38.349497', '-81.633294'], ['Wisconsin', 'Madison', '43.074722', '-89.384444'], ['Wyoming', 'Cheyenne', '41.145548', '-104.802042']]\n"
     ]
    }
   ],
   "source": [
    "def read_cities(file_name):\n",
    "    \"\"\"\n",
    "    Read in the cities from the given `file_name`, and return \n",
    "    them as a list of four-tuples: \n",
    "\n",
    "      [(state, city, latitude, longitude), ...] \n",
    "\n",
    "    Use this as your initial `road_map`, that is, the cycle \n",
    "\n",
    "      Alabama -> Alaska -> Arizona -> ... -> Wyoming -> Alabama.\n",
    "    \"\"\"\n",
    "    road_map = []\n",
    "    infile = open(file_name,\"r\")\n",
    "    \n",
    "    inline = infile.readlines()\n",
    "    r_listt = [line.rstrip() for line in inline]\n",
    "    listt = [(line.split('\\t',4)) for line in r_listt]\n",
    "    #r_listt = [line.rstrip() for line in inline]\n",
    "    \n",
    "    infile.close()   \n",
    "    return listt\n",
    "\n",
    "    #read_cities('city-data.txt')\n",
    "\n",
    "    #for i in listt: \n",
    "\n",
    "#split split(/t) line where /t and create a 4 element tuple. Then add to roadmap.\n",
    "\n",
    "# divide each string into 4 strings at \"t\"\n",
    "# remove \"n\" ()\n",
    "# tranform into tuple \n",
    "# add to listt\n",
    "# return listt\n",
    "road_map = read_cities('city-data.txt')\n",
    "print(road_map)\n"
   ]
  },
  {
   "cell_type": "code",
   "execution_count": 87,
   "metadata": {},
   "outputs": [
    {
     "name": "stdout",
     "output_type": "stream",
     "text": [
      "[('Montgomery', 32.36, -86.28), ('Juneau', 58.3, -134.42), ('Phoenix', 33.45, -112.07), ('Little Rock', 34.74, -92.33), ('Sacramento', 38.56, -121.47), ('Denver', 39.74, -104.98), ('Hartford', 41.77, -72.68), ('Dover', 39.16, -75.53), ('Tallahassee', 30.45, -84.27), ('Atlanta', 33.76, -84.39), ('Honolulu', 21.31, -157.83), ('Boise', 43.61, -116.24), ('Springfield', 39.78, -89.65), ('Indianapolis', 39.79, -86.15), ('Des Moines', 41.59, -93.62), ('Topeka', 39.04, -95.69), ('Frankfort', 38.2, -84.86), ('Baton Rouge', 30.46, -91.14), ('Augusta', 44.32, -69.77), ('Annapolis', 38.97, -76.5), ('Boston', 42.24, -71.03), ('Lansing', 42.73, -84.55), ('Saint Paul', 44.95, -93.09), ('Jackson', 32.32, -90.21), ('Jefferson City', 38.57, -92.19), ('Helana', 46.6, -112.03), ('Lincoln', 40.81, -96.68), ('Carson City', 39.16, -119.75), ('Concord', 43.22, -71.55), ('Trenton', 40.22, -74.76), ('Santa Fe', 35.67, -105.96), ('Albany', 42.66, -73.78), ('Raleigh', 35.77, -78.64), ('Bismarck', 48.81, -100.78), ('Columbus', 39.96, -83.0), ('Oklahoma City', 35.48, -97.53), ('Salem', 44.93, -123.03), ('Harrisburg', 40.27, -76.88), ('Providence', 41.82, -71.42), ('Columbia', 34.0, -81.03), ('Pierre', 44.37, -100.34), ('Nashville', 36.16, -86.78), ('Austin', 30.27, -97.75), ('Salt Lake City', 40.75, -111.89), ('Montpelier', 44.27, -72.57), ('Richmond', 37.54, -77.46), ('Olympia', 47.04, -122.89), ('Charleston', 38.35, -81.63), ('Madison', 43.07, -89.38), ('Cheyenne', 41.15, -104.8)]\n"
     ]
    }
   ],
   "source": [
    "def print_cities(road_map):\n",
    "    \"\"\"\n",
    "    Prints a list of cities, along with their locations. \n",
    "    Print only one or two digits after the decimal point.\n",
    "    \"\"\"\n",
    "    \n",
    "    road_map2 = [(i[1],round(float(i[2]),2),round(float(i[3]),2)) for i in road_map]\n",
    "#round a float number not float a rounded string!!\n",
    "\n",
    "    return road_map2\n",
    "\n",
    "road_map_2 = print_cities(road_map)\n",
    "print(road_map_2)"
   ]
  },
  {
   "cell_type": "code",
   "execution_count": 95,
   "metadata": {
    "scrolled": true
   },
   "outputs": [
    {
     "name": "stdout",
     "output_type": "stream",
     "text": [
      "1060.14\n"
     ]
    }
   ],
   "source": [
    "def compute_total_distance(road_map):\n",
    "    \"\"\"\n",
    "    Returns, as a floating point number, the sum of the distances of all \n",
    "    the connections in the `road_map`. Remember that it's a cycle, so that \n",
    "    (for example) in the initial `road_map`, Wyoming connects to Alabama...\n",
    "    \"\"\"\n",
    "\n",
    "    total_distance = 0\n",
    "    x1 = road_map[0][1]\n",
    "    y1 = road_map[0][2]\n",
    "    \n",
    "    x2 = 0\n",
    "    y2 = 0\n",
    "    \n",
    "    #sqrt((x1-x2)^2 + (y1-y2)^2)\n",
    "    #circuit = lst[(i + 1) % len(lst)]\n",
    "\n",
    "    for i in range(len(road_map)): \n",
    "        x2 = road_map[(i + 1) % len(road_map)][1]\n",
    "        y2 = road_map[(i + 1) % len(road_map)][2]\n",
    "        total_distance += math.sqrt((x1-x2)**2 + (y1-y2)**2)    \n",
    "        x1 = x2\n",
    "        y1 = y2\n",
    "            \n",
    "    return round(total_distance,2)\n",
    "\n",
    "print(compute_total_distance(road_map_2))\n",
    "\n"
   ]
  },
  {
   "cell_type": "code",
   "execution_count": 93,
   "metadata": {
    "scrolled": true
   },
   "outputs": [
    {
     "name": "stdout",
     "output_type": "stream",
     "text": [
      "([('Juneau', 58.3, -134.42), ('Montgomery', 32.36, -86.28), ('Phoenix', 33.45, -112.07), ('Little Rock', 34.74, -92.33), ('Sacramento', 38.56, -121.47), ('Denver', 39.74, -104.98), ('Hartford', 41.77, -72.68), ('Dover', 39.16, -75.53), ('Tallahassee', 30.45, -84.27), ('Atlanta', 33.76, -84.39), ('Honolulu', 21.31, -157.83), ('Boise', 43.61, -116.24), ('Springfield', 39.78, -89.65), ('Indianapolis', 39.79, -86.15), ('Des Moines', 41.59, -93.62), ('Topeka', 39.04, -95.69), ('Frankfort', 38.2, -84.86), ('Baton Rouge', 30.46, -91.14), ('Augusta', 44.32, -69.77), ('Annapolis', 38.97, -76.5), ('Boston', 42.24, -71.03), ('Lansing', 42.73, -84.55), ('Saint Paul', 44.95, -93.09), ('Jackson', 32.32, -90.21), ('Jefferson City', 38.57, -92.19), ('Helana', 46.6, -112.03), ('Lincoln', 40.81, -96.68), ('Carson City', 39.16, -119.75), ('Concord', 43.22, -71.55), ('Trenton', 40.22, -74.76), ('Santa Fe', 35.67, -105.96), ('Albany', 42.66, -73.78), ('Raleigh', 35.77, -78.64), ('Bismarck', 48.81, -100.78), ('Columbus', 39.96, -83.0), ('Oklahoma City', 35.48, -97.53), ('Salem', 44.93, -123.03), ('Harrisburg', 40.27, -76.88), ('Providence', 41.82, -71.42), ('Columbia', 34.0, -81.03), ('Pierre', 44.37, -100.34), ('Nashville', 36.16, -86.78), ('Austin', 30.27, -97.75), ('Salt Lake City', 40.75, -111.89), ('Montpelier', 44.27, -72.57), ('Richmond', 37.54, -77.46), ('Olympia', 47.04, -122.89), ('Charleston', 38.35, -81.63), ('Madison', 43.07, -89.38), ('Cheyenne', 41.15, -104.8)], 1066.26)\n"
     ]
    }
   ],
   "source": [
    "def swap_cities(road_map, index1, index2):\n",
    "    \"\"\"\n",
    "    Take the city at location `index` in the `road_map`, and the \n",
    "    city at location `index2`, swap their positions in the `road_map`, \n",
    "    compute the new total distance, and return the tuple \n",
    "\n",
    "        (new_road_map, new_total_distance)\n",
    "\n",
    "    *Allow for the possibility that `index1=index2`*,\n",
    "    and handle this case correctly.\n",
    "    \"\"\"\n",
    "    \n",
    "    if index1 == index2: \n",
    "        print('Index1 = '+ str(index1))\n",
    "        print('Index2 = ' + str(index2))\n",
    "        print('index1 is the same as index2, please input different indices.')\n",
    "        \n",
    "        \n",
    "    else:\n",
    "        new_roadmap = [(i) for i in road_map]\n",
    "        new_roadmap [index1],new_roadmap [index2] = new_roadmap [index2],new_roadmap [index1]\n",
    "        new_total_distance = compute_total_distance(new_roadmap)\n",
    "        \n",
    "    return (new_roadmap,new_total_distance)\n",
    "\n",
    "print(swap_cities(road_map_2,0,1))\n",
    "#swap_cities = (swap_cities(print_cities,0,1))\n",
    "#print(swap_cities)"
   ]
  },
  {
   "cell_type": "code",
   "execution_count": 103,
   "metadata": {},
   "outputs": [
    {
     "ename": "NameError",
     "evalue": "name 'new_roadmap' is not defined",
     "output_type": "error",
     "traceback": [
      "\u001b[0;31m---------------------------------------------------------------------------\u001b[0m",
      "\u001b[0;31mNameError\u001b[0m                                 Traceback (most recent call last)",
      "\u001b[0;32m<ipython-input-103-68071467f48e>\u001b[0m in \u001b[0;36m<module>\u001b[0;34m\u001b[0m\n\u001b[1;32m      9\u001b[0m     \u001b[0;32mreturn\u001b[0m \u001b[0mnew_roadmap\u001b[0m\u001b[0;34m\u001b[0m\u001b[0;34m\u001b[0m\u001b[0m\n\u001b[1;32m     10\u001b[0m \u001b[0;34m\u001b[0m\u001b[0m\n\u001b[0;32m---> 11\u001b[0;31m \u001b[0mprint\u001b[0m\u001b[0;34m(\u001b[0m\u001b[0mshift_cities\u001b[0m\u001b[0;34m(\u001b[0m\u001b[0mroad_map_2\u001b[0m\u001b[0;34m)\u001b[0m\u001b[0;34m)\u001b[0m\u001b[0;34m\u001b[0m\u001b[0;34m\u001b[0m\u001b[0m\n\u001b[0m",
      "\u001b[0;32m<ipython-input-103-68071467f48e>\u001b[0m in \u001b[0;36mshift_cities\u001b[0;34m(road_map)\u001b[0m\n\u001b[1;32m      7\u001b[0m     \u001b[0mnew_roadmap_2\u001b[0m \u001b[0;34m=\u001b[0m \u001b[0;34m[\u001b[0m\u001b[0mroad_map\u001b[0m\u001b[0;34m[\u001b[0m\u001b[0;34m-\u001b[0m\u001b[0;36m1\u001b[0m\u001b[0;34m]\u001b[0m\u001b[0;34m]\u001b[0m \u001b[0;34m+\u001b[0m \u001b[0mroad_map\u001b[0m\u001b[0;34m[\u001b[0m\u001b[0;34m:\u001b[0m\u001b[0;34m-\u001b[0m\u001b[0;36m1\u001b[0m\u001b[0;34m]\u001b[0m\u001b[0;34m\u001b[0m\u001b[0;34m\u001b[0m\u001b[0m\n\u001b[1;32m      8\u001b[0m \u001b[0;34m\u001b[0m\u001b[0m\n\u001b[0;32m----> 9\u001b[0;31m     \u001b[0;32mreturn\u001b[0m \u001b[0mnew_roadmap\u001b[0m\u001b[0;34m\u001b[0m\u001b[0;34m\u001b[0m\u001b[0m\n\u001b[0m\u001b[1;32m     10\u001b[0m \u001b[0;34m\u001b[0m\u001b[0m\n\u001b[1;32m     11\u001b[0m \u001b[0mprint\u001b[0m\u001b[0;34m(\u001b[0m\u001b[0mshift_cities\u001b[0m\u001b[0;34m(\u001b[0m\u001b[0mroad_map_2\u001b[0m\u001b[0;34m)\u001b[0m\u001b[0;34m)\u001b[0m\u001b[0;34m\u001b[0m\u001b[0;34m\u001b[0m\u001b[0m\n",
      "\u001b[0;31mNameError\u001b[0m: name 'new_roadmap' is not defined"
     ]
    }
   ],
   "source": [
    "def shift_cities(road_map):\n",
    "    \"\"\"\n",
    "    For every index i in the `road_map`, the city at the position i moves\n",
    "    to the position i+1. The city at the last position moves to the position\n",
    "    0. Return the new road map. \n",
    "    \"\"\"\n",
    "    new_roadmap_2 = [road_map[-1]] + road_map[:-1]\n",
    "    \n",
    "    return new_roadmap\n",
    "\n",
    "print(shift_cities(road_map_2))"
   ]
  },
  {
   "cell_type": "code",
   "execution_count": 105,
   "metadata": {},
   "outputs": [
    {
     "ename": "TypeError",
     "evalue": "can only concatenate list (not \"tuple\") to list",
     "output_type": "error",
     "traceback": [
      "\u001b[0;31m---------------------------------------------------------------------------\u001b[0m",
      "\u001b[0;31mTypeError\u001b[0m                                 Traceback (most recent call last)",
      "\u001b[0;32m<ipython-input-105-e71b2afdd08a>\u001b[0m in \u001b[0;36m<module>\u001b[0;34m\u001b[0m\n\u001b[1;32m     21\u001b[0m     \u001b[0;32mreturn\u001b[0m \u001b[0mbest_cycle\u001b[0m\u001b[0;34m,\u001b[0m \u001b[0mbest_cycle_road_map\u001b[0m\u001b[0;34m\u001b[0m\u001b[0;34m\u001b[0m\u001b[0m\n\u001b[1;32m     22\u001b[0m \u001b[0;34m\u001b[0m\u001b[0m\n\u001b[0;32m---> 23\u001b[0;31m \u001b[0mprint\u001b[0m\u001b[0;34m(\u001b[0m\u001b[0mfind_best_cycle\u001b[0m\u001b[0;34m(\u001b[0m\u001b[0mroad_map_2\u001b[0m\u001b[0;34m)\u001b[0m\u001b[0;34m)\u001b[0m\u001b[0;34m\u001b[0m\u001b[0;34m\u001b[0m\u001b[0m\n\u001b[0m",
      "\u001b[0;32m<ipython-input-105-e71b2afdd08a>\u001b[0m in \u001b[0;36mfind_best_cycle\u001b[0;34m(road_map)\u001b[0m\n\u001b[1;32m     12\u001b[0m     \u001b[0;32mwhile\u001b[0m \u001b[0mcount\u001b[0m\u001b[0;34m!=\u001b[0m \u001b[0;36m10000\u001b[0m\u001b[0;34m:\u001b[0m\u001b[0;34m\u001b[0m\u001b[0;34m\u001b[0m\u001b[0m\n\u001b[1;32m     13\u001b[0m         \u001b[0ma\u001b[0m \u001b[0;34m=\u001b[0m \u001b[0mswap_cities\u001b[0m\u001b[0;34m(\u001b[0m\u001b[0mroad_map\u001b[0m\u001b[0;34m,\u001b[0m \u001b[0;34m(\u001b[0m\u001b[0mrand\u001b[0m\u001b[0;34m.\u001b[0m\u001b[0mrandint\u001b[0m\u001b[0;34m(\u001b[0m\u001b[0;36m0\u001b[0m\u001b[0;34m,\u001b[0m\u001b[0mlen\u001b[0m\u001b[0;34m(\u001b[0m\u001b[0mroad_map\u001b[0m\u001b[0;34m)\u001b[0m\u001b[0;34m-\u001b[0m\u001b[0;36m1\u001b[0m\u001b[0;34m)\u001b[0m\u001b[0;34m)\u001b[0m\u001b[0;34m,\u001b[0m \u001b[0;34m(\u001b[0m\u001b[0mrand\u001b[0m\u001b[0;34m.\u001b[0m\u001b[0mrandint\u001b[0m\u001b[0;34m(\u001b[0m\u001b[0;36m0\u001b[0m\u001b[0;34m,\u001b[0m\u001b[0mlen\u001b[0m\u001b[0;34m(\u001b[0m\u001b[0mroad_map\u001b[0m\u001b[0;34m)\u001b[0m\u001b[0;34m-\u001b[0m\u001b[0;36m1\u001b[0m\u001b[0;34m)\u001b[0m\u001b[0;34m)\u001b[0m\u001b[0;34m)\u001b[0m\u001b[0;34m\u001b[0m\u001b[0;34m\u001b[0m\u001b[0m\n\u001b[0;32m---> 14\u001b[0;31m         \u001b[0mb\u001b[0m \u001b[0;34m=\u001b[0m \u001b[0mshift_cities\u001b[0m\u001b[0;34m(\u001b[0m\u001b[0ma\u001b[0m\u001b[0;34m)\u001b[0m\u001b[0;34m\u001b[0m\u001b[0;34m\u001b[0m\u001b[0m\n\u001b[0m\u001b[1;32m     15\u001b[0m         \u001b[0mnew_cycle\u001b[0m \u001b[0;34m=\u001b[0m \u001b[0mcompute_total_distances\u001b[0m\u001b[0;34m(\u001b[0m\u001b[0mb\u001b[0m\u001b[0;34m)\u001b[0m\u001b[0;34m\u001b[0m\u001b[0;34m\u001b[0m\u001b[0m\n\u001b[1;32m     16\u001b[0m \u001b[0;34m\u001b[0m\u001b[0m\n",
      "\u001b[0;32m<ipython-input-103-68071467f48e>\u001b[0m in \u001b[0;36mshift_cities\u001b[0;34m(road_map)\u001b[0m\n\u001b[1;32m      5\u001b[0m     \u001b[0;36m0.\u001b[0m \u001b[0mReturn\u001b[0m \u001b[0mthe\u001b[0m \u001b[0mnew\u001b[0m \u001b[0mroad\u001b[0m \u001b[0mmap\u001b[0m\u001b[0;34m.\u001b[0m\u001b[0;34m\u001b[0m\u001b[0;34m\u001b[0m\u001b[0m\n\u001b[1;32m      6\u001b[0m     \"\"\"\n\u001b[0;32m----> 7\u001b[0;31m     \u001b[0mnew_roadmap_2\u001b[0m \u001b[0;34m=\u001b[0m \u001b[0;34m[\u001b[0m\u001b[0mroad_map\u001b[0m\u001b[0;34m[\u001b[0m\u001b[0;34m-\u001b[0m\u001b[0;36m1\u001b[0m\u001b[0;34m]\u001b[0m\u001b[0;34m]\u001b[0m \u001b[0;34m+\u001b[0m \u001b[0mroad_map\u001b[0m\u001b[0;34m[\u001b[0m\u001b[0;34m:\u001b[0m\u001b[0;34m-\u001b[0m\u001b[0;36m1\u001b[0m\u001b[0;34m]\u001b[0m\u001b[0;34m\u001b[0m\u001b[0;34m\u001b[0m\u001b[0m\n\u001b[0m\u001b[1;32m      8\u001b[0m \u001b[0;34m\u001b[0m\u001b[0m\n\u001b[1;32m      9\u001b[0m     \u001b[0;32mreturn\u001b[0m \u001b[0mnew_roadmap\u001b[0m\u001b[0;34m\u001b[0m\u001b[0;34m\u001b[0m\u001b[0m\n",
      "\u001b[0;31mTypeError\u001b[0m: can only concatenate list (not \"tuple\") to list"
     ]
    }
   ],
   "source": [
    "def find_best_cycle(road_map):\n",
    "    \"\"\"\n",
    "    Using a combination of `swap_cities` and `shift_cities`, \n",
    "    try `10000` swaps/shifts, and each time keep the best cycle found so far. \n",
    "    After `10000` swaps/shifts, return the best cycle found so far.\n",
    "    Use randomly generated indices for swapping.\n",
    "    \"\"\"\n",
    "    count = 0\n",
    "    new_cycle = 0\n",
    "    best_cycle = 0\n",
    "    best_cycle_road_map = []\n",
    "    while count!= 10000:\n",
    "        a = swap_cities(road_map, (rand.randint(0,len(road_map)-1)), (rand.randint(0,len(road_map)-1)))\n",
    "        b = shift_cities(a)\n",
    "        new_cycle = compute_total_distances(b)\n",
    "        \n",
    "        if new_cycle < best_cycle:\n",
    "            best_cycle = new_cycle\n",
    "            \n",
    "        count+=1\n",
    "    return best_cycle, best_cycle_road_map\n",
    "\n",
    "print(find_best_cycle(road_map_2))\n"
   ]
  },
  {
   "cell_type": "code",
   "execution_count": 56,
   "metadata": {},
   "outputs": [],
   "source": [
    "def print_map(road_map):\n",
    "    \"\"\"\n",
    "    Prints, in an easily understandable format, the cities and \n",
    "    their connections, along with the cost for each connection \n",
    "    and the total cost.\n",
    "    \"\"\"\n",
    "    pass\n"
   ]
  },
  {
   "cell_type": "code",
   "execution_count": null,
   "metadata": {},
   "outputs": [],
   "source": [
    "def main():\n",
    "    \"\"\"\n",
    "    Reads in, and prints out, the city data, then creates the \"best\"\n",
    "    cycle and prints it out.\n",
    "    \"\"\"\n",
    "    pass\n",
    "\n",
    "\"\"\"\n",
    "if __name__ == \"__main__\": #keep this in\n",
    "    main()\n",
    "    return \"main name\"\n",
    "\"\"\""
   ]
  }
 ],
 "metadata": {
  "kernelspec": {
   "display_name": "Python 3",
   "language": "python",
   "name": "python3"
  },
  "language_info": {
   "codemirror_mode": {
    "name": "ipython",
    "version": 3
   },
   "file_extension": ".py",
   "mimetype": "text/x-python",
   "name": "python",
   "nbconvert_exporter": "python",
   "pygments_lexer": "ipython3",
   "version": "3.7.4"
  }
 },
 "nbformat": 4,
 "nbformat_minor": 2
}
