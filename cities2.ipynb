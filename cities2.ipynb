{
 "cells": [
  {
   "cell_type": "code",
   "execution_count": 15,
   "metadata": {},
   "outputs": [],
   "source": [
    "import random\n",
    "import math"
   ]
  },
  {
   "cell_type": "code",
   "execution_count": null,
   "metadata": {},
   "outputs": [],
   "source": [
    "def read_cities(file_name):\n",
    "    \"\"\"\n",
    "    Read in the cities from the given `file_name`, and return \n",
    "    them as a list of four-tuples: \n",
    "\n",
    "      [(state, city, latitude, longitude), ...] \n",
    "\n",
    "    Use this as your initial `road_map`, that is, the cycle \n",
    "\n",
    "      Alabama -> Alaska -> Arizona -> ... -> Wyoming -> Alabama.\n",
    "    \"\"\"\n",
    "    road_map = []\n",
    "    infile = open(file_name,\"r\")\n",
    "    \n",
    "    inline = infile.readlines()\n",
    "    r_listt = [line.rstrip() for line in inline]\n",
    "    listt = [(line.split('\\t',4)) for line in r_listt]\n",
    "    #r_listt = [line.rstrip() for line in inline]\n",
    "    \n",
    "    infile.close()   \n",
    "    return listt\n",
    "\n",
    "    #read_cities('city-data.txt')\n",
    "\n",
    "    #for i in listt: \n",
    "\n",
    "#split split(/t) line where /t and create a 4 element tuple. Then add to roadmap.\n",
    "\n",
    "# divide each string into 4 strings at \"t\"\n",
    "# remove \"n\" ()\n",
    "# tranform into tuple \n",
    "# add to listt\n",
    "# return listt\n",
    "read_cities = read_cities('city-data.txt')\n",
    "print(read_cities)\n"
   ]
  },
  {
   "cell_type": "code",
   "execution_count": null,
   "metadata": {},
   "outputs": [],
   "source": [
    "def print_cities(road_map):\n",
    "    \"\"\"\n",
    "    Prints a list of cities, along with their locations. \n",
    "    Print only one or two digits after the decimal point.\n",
    "    \"\"\"\n",
    "    \n",
    "    road_map2 = [(i[1],round(float(i[2]),2),round(float(i[3]),2)) for i in road_map]\n",
    "#round a float number not float a rounded string!!\n",
    "\n",
    "    return road_map2\n",
    "\n",
    "print_cities = print_cities(read_cities)\n",
    "print(print_cities)"
   ]
  },
  {
   "cell_type": "code",
   "execution_count": null,
   "metadata": {},
   "outputs": [],
   "source": [
    "print(len(print_cities)+1)"
   ]
  },
  {
   "cell_type": "code",
   "execution_count": null,
   "metadata": {},
   "outputs": [],
   "source": [
    "def compute_total_distance(road_map):\n",
    "    \"\"\"\n",
    "    Returns, as a floating point number, the sum of the distances of all \n",
    "    the connections in the `road_map`. Remember that it's a cycle, so that \n",
    "    (for example) in the initial `road_map`, Wyoming connects to Alabama...\n",
    "    \"\"\"\n",
    "    total_distance = 0\n",
    "    count = 0\n",
    "    x1 = road_map[0][1]\n",
    "    y1 = road_map[0][2]\n",
    "    \n",
    "    x2 = 0\n",
    "    y2 = 0\n",
    "    \n",
    "    #sqrt((x1-x2)^2 + (y1-y2)^2)\n",
    "    #circuit = lst[(i + 1) % len(lst)]\n",
    "    while count != len(road_map)+1: \n",
    "        for i in range(len(road_map)): \n",
    "            x2 = road_map[(i + 1) % len(road_map)][1]\n",
    "            y2 = road_map[(i + 1) % len(road_map)[2]\n",
    "            total_distance += math.sqrt((x1 - x2)**2 + (y1-y2)**2)\n",
    "            count +=1\n",
    "            x1 = x2\n",
    "            y1 = y2\n",
    "    \n",
    "    \n",
    "    return float(total_distance)\n",
    "\n",
    "print(compute_total_distance(print_cities))\n"
   ]
  },
  {
   "cell_type": "code",
   "execution_count": 68,
   "metadata": {},
   "outputs": [
    {
     "name": "stdout",
     "output_type": "stream",
     "text": [
      "32.36 58.3\n",
      "90.66\n"
     ]
    }
   ],
   "source": [
    "a = print_cities[0][1]\n",
    "b = print_cities[1][1]\n",
    "print(a,b)\n",
    "print(a+b)"
   ]
  },
  {
   "cell_type": "code",
   "execution_count": null,
   "metadata": {},
   "outputs": [],
   "source": [
    "def swap_cities(road_map, index1, index2):\n",
    "    \"\"\"\n",
    "    Take the city at location `index` in the `road_map`, and the \n",
    "    city at location `index2`, swap their positions in the `road_map`, \n",
    "    compute the new total distance, and return the tuple \n",
    "\n",
    "        (new_road_map, new_total_distance)\n",
    "\n",
    "    Allow for the possibility that `index1=index2`,\n",
    "    and handle this case correctly.\n",
    "    \"\"\"\n",
    "    new_roadmap = [0]\n",
    "    new_total_distance = 0.0\n",
    "    return (new_roadmap,new_total_distance)"
   ]
  }
 ],
 "metadata": {
  "kernelspec": {
   "display_name": "Python 3",
   "language": "python",
   "name": "python3"
  },
  "language_info": {
   "codemirror_mode": {
    "name": "ipython",
    "version": 3
   },
   "file_extension": ".py",
   "mimetype": "text/x-python",
   "name": "python",
   "nbconvert_exporter": "python",
   "pygments_lexer": "ipython3",
   "version": "3.7.4"
  }
 },
 "nbformat": 4,
 "nbformat_minor": 2
}
