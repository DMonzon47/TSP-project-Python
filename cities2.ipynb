{
 "cells": [
  {
   "cell_type": "code",
   "execution_count": 60,
   "metadata": {},
   "outputs": [],
   "source": [
    "import random as rand\n",
    "import math"
   ]
  },
  {
   "cell_type": "code",
   "execution_count": 61,
   "metadata": {},
   "outputs": [
    {
     "name": "stdout",
     "output_type": "stream",
     "text": [
      "[['Alabama', 'Montgomery', '32.361538', '-86.279118'], ['Alaska', 'Juneau', '58.301935', '-134.41974'], ['Arizona', 'Phoenix', '33.448457', '-112.073844'], ['Arkansas', 'Little Rock', '34.736009', '-92.331122'], ['California', 'Sacramento', '38.555605', '-121.468926'], ['Colorado', 'Denver', '39.7391667', '-104.984167'], ['Connecticut', 'Hartford', '41.767', '-72.677'], ['Delaware', 'Dover', '39.161921', '-75.526755'], ['Florida', 'Tallahassee', '30.4518', '-84.27277'], ['Georgia', 'Atlanta', '33.76', '-84.39'], ['Hawaii', 'Honolulu', '21.30895', '-157.826182'], ['Idaho', 'Boise', '43.613739', '-116.237651'], ['Illinois', 'Springfield', '39.78325', '-89.650373'], ['Indiana', 'Indianapolis', '39.790942', '-86.147685'], ['Iowa', 'Des Moines', '41.590939', '-93.620866'], ['Kansas', 'Topeka', '39.04', '-95.69'], ['Kentucky', 'Frankfort', '38.197274', '-84.86311'], ['Louisiana', 'Baton Rouge', '30.45809', '-91.140229'], ['Maine', 'Augusta', '44.323535', '-69.765261'], ['Maryland', 'Annapolis', '38.972945', '-76.501157'], ['Massachusetts', 'Boston', '42.2352', '-71.0275'], ['Michigan', 'Lansing', '42.7335', '-84.5467'], ['Minnesota', 'Saint Paul', '44.95', '-93.094'], ['Mississippi', 'Jackson', '32.32', '-90.207'], ['Missouri', 'Jefferson City', '38.572954', '-92.189283'], ['Montana', 'Helana', '46.595805', '-112.027031'], ['Nebraska', 'Lincoln', '40.809868', '-96.675345'], ['Nevada', 'Carson City', '39.160949', '-119.753877'], ['New Hampshire', 'Concord', '43.220093', '-71.549127'], ['New Jersey', 'Trenton', '40.221741', '-74.756138'], ['New Mexico', 'Santa Fe', '35.667231', '-105.964575'], ['New York', 'Albany', '42.659829', '-73.781339'], ['North Carolina', 'Raleigh', '35.771', '-78.638'], ['North Dakota', 'Bismarck', '48.813343', '-100.779004'], ['Ohio', 'Columbus', '39.962245', '-83.000647'], ['Oklahoma', 'Oklahoma City', '35.482309', '-97.534994'], ['Oregon', 'Salem', '44.931109', '-123.029159'], ['Pennsylvania', 'Harrisburg', '40.269789', '-76.875613'], ['Rhode Island', 'Providence', '41.82355', '-71.422132'], ['South Carolina', 'Columbia', '34', '-81.035'], ['South Dakota', 'Pierre', '44.367966', '-100.336378'], ['Tennessee', 'Nashville', '36.165', '-86.784'], ['Texas', 'Austin', '30.266667', '-97.75'], ['Utah', 'Salt Lake City', '40.7547', '-111.892622'], ['Vermont', 'Montpelier', '44.26639', '-72.57194'], ['Virginia', 'Richmond', '37.54', '-77.46'], ['Washington', 'Olympia', '47.042418', '-122.893077'], ['West Virginia', 'Charleston', '38.349497', '-81.633294'], ['Wisconsin', 'Madison', '43.074722', '-89.384444'], ['Wyoming', 'Cheyenne', '41.145548', '-104.802042']]\n"
     ]
    }
   ],
   "source": [
    "def read_cities(file_name):\n",
    "    \"\"\"\n",
    "    Read in the cities from the given `file_name`, and return \n",
    "    them as a list of four-tuples: \n",
    "\n",
    "      [(state, city, latitude, longitude), ...] \n",
    "\n",
    "    Use this as your initial `road_map`, that is, the cycle \n",
    "\n",
    "      Alabama -> Alaska -> Arizona -> ... -> Wyoming -> Alabama.\n",
    "    \"\"\"\n",
    "    road_map = []\n",
    "    infile = open(file_name,\"r\")\n",
    "    \n",
    "    inline = infile.readlines()\n",
    "    r_listt = [line.rstrip() for line in inline]\n",
    "    listt = [(line.split('\\t',4)) for line in r_listt]\n",
    "    #r_listt = [line.rstrip() for line in inline]\n",
    "    \n",
    "    infile.close()   \n",
    "    return listt\n",
    "\n",
    "    #read_cities('city-data.txt')\n",
    "\n",
    "    #for i in listt: \n",
    "\n",
    "#split split(/t) line where /t and create a 4 element tuple. Then add to roadmap.\n",
    "\n",
    "# divide each string into 4 strings at \"t\"\n",
    "# remove \"n\" ()\n",
    "# tranform into tuple \n",
    "# add to listt\n",
    "# return listt\n",
    "road_map = read_cities('city-data.txt')\n",
    "print(road_map)\n"
   ]
  },
  {
   "cell_type": "code",
   "execution_count": 62,
   "metadata": {},
   "outputs": [
    {
     "name": "stdout",
     "output_type": "stream",
     "text": [
      "[('Alabama', 'Montgomery', 32.36, -86.28), ('Alaska', 'Juneau', 58.3, -134.42), ('Arizona', 'Phoenix', 33.45, -112.07), ('Arkansas', 'Little Rock', 34.74, -92.33), ('California', 'Sacramento', 38.56, -121.47), ('Colorado', 'Denver', 39.74, -104.98), ('Connecticut', 'Hartford', 41.77, -72.68), ('Delaware', 'Dover', 39.16, -75.53), ('Florida', 'Tallahassee', 30.45, -84.27), ('Georgia', 'Atlanta', 33.76, -84.39), ('Hawaii', 'Honolulu', 21.31, -157.83), ('Idaho', 'Boise', 43.61, -116.24), ('Illinois', 'Springfield', 39.78, -89.65), ('Indiana', 'Indianapolis', 39.79, -86.15), ('Iowa', 'Des Moines', 41.59, -93.62), ('Kansas', 'Topeka', 39.04, -95.69), ('Kentucky', 'Frankfort', 38.2, -84.86), ('Louisiana', 'Baton Rouge', 30.46, -91.14), ('Maine', 'Augusta', 44.32, -69.77), ('Maryland', 'Annapolis', 38.97, -76.5), ('Massachusetts', 'Boston', 42.24, -71.03), ('Michigan', 'Lansing', 42.73, -84.55), ('Minnesota', 'Saint Paul', 44.95, -93.09), ('Mississippi', 'Jackson', 32.32, -90.21), ('Missouri', 'Jefferson City', 38.57, -92.19), ('Montana', 'Helana', 46.6, -112.03), ('Nebraska', 'Lincoln', 40.81, -96.68), ('Nevada', 'Carson City', 39.16, -119.75), ('New Hampshire', 'Concord', 43.22, -71.55), ('New Jersey', 'Trenton', 40.22, -74.76), ('New Mexico', 'Santa Fe', 35.67, -105.96), ('New York', 'Albany', 42.66, -73.78), ('North Carolina', 'Raleigh', 35.77, -78.64), ('North Dakota', 'Bismarck', 48.81, -100.78), ('Ohio', 'Columbus', 39.96, -83.0), ('Oklahoma', 'Oklahoma City', 35.48, -97.53), ('Oregon', 'Salem', 44.93, -123.03), ('Pennsylvania', 'Harrisburg', 40.27, -76.88), ('Rhode Island', 'Providence', 41.82, -71.42), ('South Carolina', 'Columbia', 34.0, -81.03), ('South Dakota', 'Pierre', 44.37, -100.34), ('Tennessee', 'Nashville', 36.16, -86.78), ('Texas', 'Austin', 30.27, -97.75), ('Utah', 'Salt Lake City', 40.75, -111.89), ('Vermont', 'Montpelier', 44.27, -72.57), ('Virginia', 'Richmond', 37.54, -77.46), ('Washington', 'Olympia', 47.04, -122.89), ('West Virginia', 'Charleston', 38.35, -81.63), ('Wisconsin', 'Madison', 43.07, -89.38), ('Wyoming', 'Cheyenne', 41.15, -104.8)]\n"
     ]
    }
   ],
   "source": [
    "def print_cities(road_map):\n",
    "    \"\"\"\n",
    "    Prints a list of cities, along with their locations. \n",
    "    Print only one or two digits after the decimal point.\n",
    "    \"\"\"\n",
    "    \n",
    "    road_map2 = [(i[0],i[1],round(float(i[2]),2),round(float(i[3]),2)) for i in road_map]\n",
    "#round a float number not float a rounded string!!\n",
    "\n",
    "    return road_map2\n",
    "\n",
    "road_map = print_cities(road_map)\n",
    "print(road_map)"
   ]
  },
  {
   "cell_type": "code",
   "execution_count": 63,
   "metadata": {
    "scrolled": true
   },
   "outputs": [
    {
     "name": "stdout",
     "output_type": "stream",
     "text": [
      "1060.14\n",
      "38.53\n",
      "Empty 'road_map', please input correct format: [('state','city','latitude','longitude')].\n"
     ]
    }
   ],
   "source": [
    "def compute_total_distance(road_map):\n",
    "    \"\"\"\n",
    "    Returns, as a floating point number, the sum of the distances of all \n",
    "    the connections in the `road_map`. Remember that it's a cycle, so that \n",
    "    (for example) in the initial `road_map`, Wyoming connects to Alabama...\n",
    "    \"\"\"\n",
    "    \n",
    "    if len(road_map) == 0: \n",
    "        return \"Empty 'road_map', please input correct format: [('state','city','latitude','longitude')].\"\n",
    "    \n",
    "    #for i in road_map:\n",
    "        #if type(i[2]) or type(i[3]) == str:\n",
    "            #return \"Incorrect type. 'road_map' index[2] and [3] must be of float() types.\"\n",
    "        #if type(i[2]) or type(i[3]) == int:\n",
    "            #return \"Incorrect type. 'road_map' index[2] and [3] must be of float() types.\"\n",
    "     #fix this!!!!       \n",
    "\n",
    "    \n",
    "    total_distance = 0\n",
    "    x1 = road_map[0][2]\n",
    "    y1 = road_map[0][3]\n",
    "    \n",
    "    x2 = 0\n",
    "    y2 = 0\n",
    "    \n",
    "    #sqrt((x1-x2)^2 + (y1-y2)^2)\n",
    "    #circuit = lst[(i + 1) % len(lst)]\n",
    "\n",
    "    for i in range(len(road_map)): \n",
    "        x2 = road_map[(i + 1) % len(road_map)][2]\n",
    "        y2 = road_map[(i + 1) % len(road_map)][3]\n",
    "        total_distance += math.sqrt((x1-x2)**2 + (y1-y2)**2)    \n",
    "        x1 = x2\n",
    "        y1 = y2\n",
    "            \n",
    "    return round(total_distance,2)\n",
    "\n",
    "print(compute_total_distance(road_map))\n",
    "road_map1 = [(\"Kentucky\", \"Frankfort\", 38.197274, -84.86311),\\\n",
    "                (\"Delaware\", \"Dover\", 39.161921, -75.526755),\\\n",
    "                (\"Minnesota\", \"Saint Paul\", 44.95, -93.094)]\n",
    "road_map2 = []\n",
    "print(compute_total_distance(road_map1))\n",
    "print(compute_total_distance(road_map2))"
   ]
  },
  {
   "cell_type": "code",
   "execution_count": 73,
   "metadata": {},
   "outputs": [
    {
     "name": "stdout",
     "output_type": "stream",
     "text": [
      "not allowed!\n"
     ]
    }
   ],
   "source": [
    "a = 0.5234\n",
    "\n",
    "type(a) == float\n",
    "\n",
    "for i in road_map1: \n",
    "    if type(i[2]) == float: \n",
    "        print('not allowed!')\n",
    "        break\n",
    "        "
   ]
  },
  {
   "cell_type": "code",
   "execution_count": 65,
   "metadata": {
    "scrolled": true
   },
   "outputs": [
    {
     "name": "stdout",
     "output_type": "stream",
     "text": [
      "([('Alabama', 'Montgomery', 32.36, -86.28), ('Alaska', 'Juneau', 58.3, -134.42), ('Arizona', 'Phoenix', 33.45, -112.07), ('Arkansas', 'Little Rock', 34.74, -92.33), ('California', 'Sacramento', 38.56, -121.47), ('Colorado', 'Denver', 39.74, -104.98), ('Connecticut', 'Hartford', 41.77, -72.68), ('Delaware', 'Dover', 39.16, -75.53), ('Florida', 'Tallahassee', 30.45, -84.27), ('Georgia', 'Atlanta', 33.76, -84.39), ('Hawaii', 'Honolulu', 21.31, -157.83), ('Idaho', 'Boise', 43.61, -116.24), ('Illinois', 'Springfield', 39.78, -89.65), ('Indiana', 'Indianapolis', 39.79, -86.15), ('Iowa', 'Des Moines', 41.59, -93.62), ('Kansas', 'Topeka', 39.04, -95.69), ('Kentucky', 'Frankfort', 38.2, -84.86), ('Louisiana', 'Baton Rouge', 30.46, -91.14), ('Maine', 'Augusta', 44.32, -69.77), ('Maryland', 'Annapolis', 38.97, -76.5), ('Massachusetts', 'Boston', 42.24, -71.03), ('Michigan', 'Lansing', 42.73, -84.55), ('Minnesota', 'Saint Paul', 44.95, -93.09), ('Mississippi', 'Jackson', 32.32, -90.21), ('Missouri', 'Jefferson City', 38.57, -92.19), ('Montana', 'Helana', 46.6, -112.03), ('Nebraska', 'Lincoln', 40.81, -96.68), ('Nevada', 'Carson City', 39.16, -119.75), ('New Hampshire', 'Concord', 43.22, -71.55), ('New Jersey', 'Trenton', 40.22, -74.76), ('New Mexico', 'Santa Fe', 35.67, -105.96), ('New York', 'Albany', 42.66, -73.78), ('North Carolina', 'Raleigh', 35.77, -78.64), ('North Dakota', 'Bismarck', 48.81, -100.78), ('Ohio', 'Columbus', 39.96, -83.0), ('Oklahoma', 'Oklahoma City', 35.48, -97.53), ('Oregon', 'Salem', 44.93, -123.03), ('Pennsylvania', 'Harrisburg', 40.27, -76.88), ('Rhode Island', 'Providence', 41.82, -71.42), ('South Carolina', 'Columbia', 34.0, -81.03), ('South Dakota', 'Pierre', 44.37, -100.34), ('Tennessee', 'Nashville', 36.16, -86.78), ('Texas', 'Austin', 30.27, -97.75), ('Utah', 'Salt Lake City', 40.75, -111.89), ('Vermont', 'Montpelier', 44.27, -72.57), ('Virginia', 'Richmond', 37.54, -77.46), ('Washington', 'Olympia', 47.04, -122.89), ('West Virginia', 'Charleston', 38.35, -81.63), ('Wisconsin', 'Madison', 43.07, -89.38), ('Wyoming', 'Cheyenne', 41.15, -104.8)], 1060.14)\n"
     ]
    }
   ],
   "source": [
    "def swap_cities(road_map, index1, index2):\n",
    "    \"\"\"\n",
    "    Take the city at location `index` in the `road_map`, and the \n",
    "    city at location `index2`, swap their positions in the `road_map`, \n",
    "    compute the new total distance, and return the tuple \n",
    "\n",
    "        (new_road_map, new_total_distance)\n",
    "\n",
    "    Allow for the possibility that `index1=index2`,\n",
    "    and handle this case correctly.\n",
    "    \"\"\"\n",
    "    #if type(index1) or type(index2) == float:\n",
    "        #if type(index1) or type(index2) == str: \n",
    "            #return True\n",
    "            #print(type(index2))return \"Input: index1 or index2 is of wrong type. Input must be an int.\"\n",
    "            #\"\"\"Fix this test part!!\"\"\"\n",
    "    #else: \n",
    "    #new_roadmap = [(i) for i in road_map]\n",
    "    road_map [index1],road_map [index2] = road_map [index2],road_map [index1]\n",
    "    new_roadmap = road_map\n",
    "    new_total_distance = compute_total_distance(new_roadmap)\n",
    "            #count+=1\n",
    "        \n",
    "    \n",
    "        \n",
    "    return (new_roadmap,new_total_distance)\n",
    "print(swap_cities(road_map,0,1))\n",
    "\n",
    "#print(road_map2)\n",
    "#swap_cities = (swap_cities(print_cities,1,1))\n",
    "#print(swap_cities)"
   ]
  },
  {
   "cell_type": "code",
   "execution_count": 68,
   "metadata": {
    "scrolled": true
   },
   "outputs": [
    {
     "name": "stdout",
     "output_type": "stream",
     "text": [
      "[('West Virginia', 'Charleston', 38.35, -81.63), ('Wisconsin', 'Madison', 43.07, -89.38), ('Wyoming', 'Cheyenne', 41.15, -104.8), ('Alabama', 'Montgomery', 32.36, -86.28), ('Alaska', 'Juneau', 58.3, -134.42), ('Arizona', 'Phoenix', 33.45, -112.07), ('Arkansas', 'Little Rock', 34.74, -92.33), ('California', 'Sacramento', 38.56, -121.47), ('Colorado', 'Denver', 39.74, -104.98), ('Connecticut', 'Hartford', 41.77, -72.68), ('Delaware', 'Dover', 39.16, -75.53), ('Florida', 'Tallahassee', 30.45, -84.27), ('Georgia', 'Atlanta', 33.76, -84.39), ('Hawaii', 'Honolulu', 21.31, -157.83), ('Idaho', 'Boise', 43.61, -116.24), ('Illinois', 'Springfield', 39.78, -89.65), ('Indiana', 'Indianapolis', 39.79, -86.15), ('Iowa', 'Des Moines', 41.59, -93.62), ('Kansas', 'Topeka', 39.04, -95.69), ('Kentucky', 'Frankfort', 38.2, -84.86), ('Louisiana', 'Baton Rouge', 30.46, -91.14), ('Maine', 'Augusta', 44.32, -69.77), ('Maryland', 'Annapolis', 38.97, -76.5), ('Massachusetts', 'Boston', 42.24, -71.03), ('Michigan', 'Lansing', 42.73, -84.55), ('Minnesota', 'Saint Paul', 44.95, -93.09), ('Mississippi', 'Jackson', 32.32, -90.21), ('Missouri', 'Jefferson City', 38.57, -92.19), ('Montana', 'Helana', 46.6, -112.03), ('Nebraska', 'Lincoln', 40.81, -96.68), ('Nevada', 'Carson City', 39.16, -119.75), ('New Hampshire', 'Concord', 43.22, -71.55), ('New Jersey', 'Trenton', 40.22, -74.76), ('New Mexico', 'Santa Fe', 35.67, -105.96), ('New York', 'Albany', 42.66, -73.78), ('North Carolina', 'Raleigh', 35.77, -78.64), ('North Dakota', 'Bismarck', 48.81, -100.78), ('Ohio', 'Columbus', 39.96, -83.0), ('Oklahoma', 'Oklahoma City', 35.48, -97.53), ('Oregon', 'Salem', 44.93, -123.03), ('Pennsylvania', 'Harrisburg', 40.27, -76.88), ('Rhode Island', 'Providence', 41.82, -71.42), ('South Carolina', 'Columbia', 34.0, -81.03), ('South Dakota', 'Pierre', 44.37, -100.34), ('Tennessee', 'Nashville', 36.16, -86.78), ('Texas', 'Austin', 30.27, -97.75), ('Utah', 'Salt Lake City', 40.75, -111.89), ('Vermont', 'Montpelier', 44.27, -72.57), ('Virginia', 'Richmond', 37.54, -77.46), ('Washington', 'Olympia', 47.04, -122.89)]\n"
     ]
    }
   ],
   "source": [
    "rm = [1,2,3,4,5,6,7,8,9]\n",
    "\n",
    "def shift_cities(road_map):\n",
    "    \"\"\"\n",
    "    For every index i in the `road_map`, the city at the position i moves\n",
    "    to the position i+1. The city at the last position moves to the position\n",
    "    0. Return the new road map. \n",
    "    \"\"\"\n",
    "    \n",
    "    #road_map = [road_map[-1]] + road_map[:-1]\n",
    "    #print(road_map)\n",
    "    \n",
    "    #ROAD MAP DOES NOT CHANGE!!FIX THIS!\n",
    "#     road_map2=[]\n",
    "#     for i in road_map: \n",
    "#         road_map2.append(i)\n",
    "    \n",
    "     #road_map = road_map2\n",
    "    \n",
    "    road_map.insert(0,road_map.pop())\n",
    "    \n",
    "    return  road_map\n",
    "print(shift_cities(road_map))\n",
    "#rm_map = shift_cities(rm)\n",
    "#print(shift_cities(rm_map))\n",
    "#print(shift_cities(rm_map))\n",
    "#print(shift_cities(rm_map))"
   ]
  },
  {
   "cell_type": "code",
   "execution_count": 82,
   "metadata": {
    "scrolled": true
   },
   "outputs": [
    {
     "name": "stdout",
     "output_type": "stream",
     "text": [
      "(806.02, 10000, [('New Hampshire', 'Concord', 43.22, -71.55), ('Alabama', 'Montgomery', 32.36, -86.28), ('Kansas', 'Topeka', 39.04, -95.69), ('Wyoming', 'Cheyenne', 41.15, -104.8), ('North Carolina', 'Raleigh', 35.77, -78.64), ('Missouri', 'Jefferson City', 38.57, -92.19), ('Alaska', 'Juneau', 58.3, -134.42), ('Tennessee', 'Nashville', 36.16, -86.78), ('Vermont', 'Montpelier', 44.27, -72.57), ('Wisconsin', 'Madison', 43.07, -89.38), ('New Mexico', 'Santa Fe', 35.67, -105.96), ('Louisiana', 'Baton Rouge', 30.46, -91.14), ('Montana', 'Helana', 46.6, -112.03), ('South Carolina', 'Columbia', 34.0, -81.03), ('Rhode Island', 'Providence', 41.82, -71.42), ('Ohio', 'Columbus', 39.96, -83.0), ('Georgia', 'Atlanta', 33.76, -84.39), ('Nevada', 'Carson City', 39.16, -119.75), ('Oklahoma', 'Oklahoma City', 35.48, -97.53), ('Massachusetts', 'Boston', 42.24, -71.03), ('Iowa', 'Des Moines', 41.59, -93.62), ('Texas', 'Austin', 30.27, -97.75), ('Oregon', 'Salem', 44.93, -123.03), ('New York', 'Albany', 42.66, -73.78), ('Minnesota', 'Saint Paul', 44.95, -93.09), ('Maine', 'Augusta', 44.32, -69.77), ('New Jersey', 'Trenton', 40.22, -74.76), ('Arizona', 'Phoenix', 33.45, -112.07), ('Virginia', 'Richmond', 37.54, -77.46), ('Utah', 'Salt Lake City', 40.75, -111.89), ('Pennsylvania', 'Harrisburg', 40.27, -76.88), ('Florida', 'Tallahassee', 30.45, -84.27), ('Hawaii', 'Honolulu', 21.31, -157.83), ('Arkansas', 'Little Rock', 34.74, -92.33), ('Delaware', 'Dover', 39.16, -75.53), ('Mississippi', 'Jackson', 32.32, -90.21), ('Kentucky', 'Frankfort', 38.2, -84.86), ('Nebraska', 'Lincoln', 40.81, -96.68), ('Connecticut', 'Hartford', 41.77, -72.68), ('West Virginia', 'Charleston', 38.35, -81.63), ('California', 'Sacramento', 38.56, -121.47), ('North Dakota', 'Bismarck', 48.81, -100.78), ('Washington', 'Olympia', 47.04, -122.89), ('Colorado', 'Denver', 39.74, -104.98), ('Indiana', 'Indianapolis', 39.79, -86.15), ('Illinois', 'Springfield', 39.78, -89.65), ('South Dakota', 'Pierre', 44.37, -100.34), ('Michigan', 'Lansing', 42.73, -84.55), ('Idaho', 'Boise', 43.61, -116.24), ('Maryland', 'Annapolis', 38.97, -76.5)])\n"
     ]
    },
    {
     "data": {
      "text/plain": [
       "'Works when swap cities allows index1==index2\\n    is this also calculating [49] -> [0]???\\n    FIX THIS - shift_cities not working properly in this function'"
      ]
     },
     "execution_count": 82,
     "metadata": {},
     "output_type": "execute_result"
    }
   ],
   "source": [
    "def find_best_cycle(road_map):\n",
    "    \"\"\"\n",
    "    Using a combination of `swap_cities` and `shift_cities`, \n",
    "    try `10000` swaps/shifts, and each time keep the best cycle found so far. \n",
    "    After `10000` swaps/shifts, return the best cycle found so far.\n",
    "    Use randomly generated indices for swapping.\n",
    "    \"\"\"\n",
    "\n",
    "    n = 10000\n",
    "    count = 0\n",
    "    new_cycle = 0\n",
    "    best_cycle = 1060.14\n",
    "    best_cycle_road_map = []\n",
    "    while count!= n:\n",
    "        n1 = int((len(road_map)) * rand.random())\n",
    "        n2 = int((len(road_map)) * rand.random())\n",
    "        a = swap_cities(road_map, n1, n2)\n",
    "        #print(n1,n2)\n",
    "        b = shift_cities(a[0])\n",
    "        #print(b)\n",
    "        \n",
    "        new_cycle = compute_total_distance(b)\n",
    "        \n",
    "        if new_cycle < best_cycle:\n",
    "            best_cycle = new_cycle\n",
    "            best_cycle_road_map = b\n",
    "            #print(n1,n2,b, new_cycle)\n",
    "        count+=1\n",
    "        \n",
    "    return best_cycle, count, best_cycle_road_map\n",
    "\"\"\"store best cycle and best shift/swap, compare and replace. \"\"\"\n",
    "t1 = find_best_cycle(road_map)\n",
    "print(t1)\n",
    "\n",
    "\"\"\"Works when swap cities allows index1==index2\n",
    "    is this also calculating [49] -> [0]???\n",
    "    FIX THIS - shift_cities not working properly in this function\"\"\""
   ]
  },
  {
   "cell_type": "code",
   "execution_count": 83,
   "metadata": {},
   "outputs": [
    {
     "name": "stdout",
     "output_type": "stream",
     "text": [
      "Concord -> Montgomery\n",
      "Distance between: 18.3\n",
      "Montgomery -> Topeka\n",
      "Distance between: 11.54\n",
      "Topeka -> Cheyenne\n",
      "Distance between: 9.35\n",
      "Cheyenne -> Raleigh\n",
      "Distance between: 26.71\n",
      "Raleigh -> Jefferson City\n",
      "Distance between: 13.84\n",
      "Jefferson City -> Juneau\n",
      "Distance between: 46.61\n",
      "Juneau -> Nashville\n",
      "Distance between: 52.53\n",
      "Nashville -> Montpelier\n",
      "Distance between: 16.36\n",
      "Montpelier -> Madison\n",
      "Distance between: 16.85\n",
      "Madison -> Santa Fe\n",
      "Distance between: 18.16\n",
      "Santa Fe -> Baton Rouge\n",
      "Distance between: 15.71\n",
      "Baton Rouge -> Helana\n",
      "Distance between: 26.4\n",
      "Helana -> Columbia\n",
      "Distance between: 33.46\n",
      "Columbia -> Providence\n",
      "Distance between: 12.39\n",
      "Providence -> Columbus\n",
      "Distance between: 11.73\n",
      "Columbus -> Atlanta\n",
      "Distance between: 6.35\n",
      "Atlanta -> Carson City\n",
      "Distance between: 35.77\n",
      "Carson City -> Oklahoma City\n",
      "Distance between: 22.52\n",
      "Oklahoma City -> Boston\n",
      "Distance between: 27.35\n",
      "Boston -> Des Moines\n",
      "Distance between: 22.6\n",
      "Des Moines -> Austin\n",
      "Distance between: 12.05\n",
      "Austin -> Salem\n",
      "Distance between: 29.22\n",
      "Salem -> Albany\n",
      "Distance between: 49.3\n",
      "Albany -> Saint Paul\n",
      "Distance between: 19.45\n",
      "Saint Paul -> Augusta\n",
      "Distance between: 23.33\n",
      "Augusta -> Trenton\n",
      "Distance between: 6.46\n",
      "Trenton -> Phoenix\n",
      "Distance between: 37.92\n",
      "Phoenix -> Richmond\n",
      "Distance between: 34.85\n",
      "Richmond -> Salt Lake City\n",
      "Distance between: 34.58\n",
      "Salt Lake City -> Harrisburg\n",
      "Distance between: 35.01\n",
      "Harrisburg -> Tallahassee\n",
      "Distance between: 12.29\n",
      "Tallahassee -> Honolulu\n",
      "Distance between: 74.13\n",
      "Honolulu -> Little Rock\n",
      "Distance between: 66.86\n",
      "Little Rock -> Dover\n",
      "Distance between: 17.37\n",
      "Dover -> Jackson\n",
      "Distance between: 16.2\n",
      "Jackson -> Frankfort\n",
      "Distance between: 7.95\n",
      "Frankfort -> Lincoln\n",
      "Distance between: 12.1\n",
      "Lincoln -> Hartford\n",
      "Distance between: 24.02\n",
      "Hartford -> Charleston\n",
      "Distance between: 9.58\n",
      "Charleston -> Sacramento\n",
      "Distance between: 39.84\n",
      "Sacramento -> Bismarck\n",
      "Distance between: 23.09\n",
      "Bismarck -> Olympia\n",
      "Distance between: 22.18\n",
      "Olympia -> Denver\n",
      "Distance between: 19.34\n",
      "Denver -> Indianapolis\n",
      "Distance between: 18.83\n",
      "Indianapolis -> Springfield\n",
      "Distance between: 3.5\n",
      "Springfield -> Pierre\n",
      "Distance between: 11.63\n",
      "Pierre -> Lansing\n",
      "Distance between: 15.87\n",
      "Lansing -> Boise\n",
      "Distance between: 31.7\n",
      "Boise -> Annapolis\n",
      "Distance between: 40.01\n",
      "Annapolis -> Concord\n",
      "Distance between: 6.52\n",
      "Total distance: 1199.73\n"
     ]
    }
   ],
   "source": [
    "def print_map(road_map):\n",
    "    \"\"\"\n",
    "    Prints, in an easily understandable format, the cities and \n",
    "    their connections, along with the cost for each connection \n",
    "    and the total cost.\n",
    "    \"\"\"\n",
    "\n",
    "    for i in range(len(road_map)): \n",
    "        x1 = road_map[i][2]\n",
    "        y1 = road_map[i][3]\n",
    "        x2 = 0\n",
    "        y2 = 0\n",
    "        \n",
    "        #print(x1, x2, y1,y2)\n",
    "        x2 = road_map[(i + 1) % len(road_map)][2]\n",
    "        y2 = road_map[(i + 1) % len(road_map)][3]\n",
    "        #print(x2,y2)\n",
    "        distance = round((math.sqrt((x1-x2)**2 + (y1-y2)**2)),2) \n",
    "        print(str(road_map[i][1]) + ' -> ' + str(road_map[(i + 1) % len(road_map)][1]) + '\\nDistance between: ' + str(distance))\n",
    "\n",
    "    \n",
    "\n",
    "    total_distance = compute_total_distance(road_map)    \n",
    "    print('Total distance: ' + str(total_distance))\n",
    "        \n",
    "\n",
    "print_map(road_map)"
   ]
  },
  {
   "cell_type": "code",
   "execution_count": 107,
   "metadata": {},
   "outputs": [],
   "source": [
    "def main():\n",
    "    \"\"\"\n",
    "    Reads in, and prints out, the city data, then creates the \"best\"\n",
    "    cycle and prints it out.\n",
    "    \"\"\"\n",
    "\n",
    "    file = input(\"Please input your file name: \")\n",
    "    \n",
    "    road_map = read_cities(file)\n",
    "    \n",
    "    #print_roadmap = print_cities(road_map)\n",
    "    \n",
    "    road_map2 = print_cities(road_map)\n",
    "    print(str(road_map2) +  '\\n')\n",
    "    \n",
    "    best_cycle = find_best_cycle(road_map2)\n",
    "    \n",
    "    return best_cycle\n",
    "\n",
    "    if __name__ == \"__main__\":\n",
    "        main()\n",
    "        #keep this in\n",
    "\n"
   ]
  },
  {
   "cell_type": "code",
   "execution_count": 108,
   "metadata": {},
   "outputs": [
    {
     "name": "stdout",
     "output_type": "stream",
     "text": [
      "Please input your file name: city-data.txt\n",
      "[('Alabama', 'Montgomery', 32.36, -86.28), ('Alaska', 'Juneau', 58.3, -134.42), ('Arizona', 'Phoenix', 33.45, -112.07), ('Arkansas', 'Little Rock', 34.74, -92.33), ('California', 'Sacramento', 38.56, -121.47), ('Colorado', 'Denver', 39.74, -104.98), ('Connecticut', 'Hartford', 41.77, -72.68), ('Delaware', 'Dover', 39.16, -75.53), ('Florida', 'Tallahassee', 30.45, -84.27), ('Georgia', 'Atlanta', 33.76, -84.39), ('Hawaii', 'Honolulu', 21.31, -157.83), ('Idaho', 'Boise', 43.61, -116.24), ('Illinois', 'Springfield', 39.78, -89.65), ('Indiana', 'Indianapolis', 39.79, -86.15), ('Iowa', 'Des Moines', 41.59, -93.62), ('Kansas', 'Topeka', 39.04, -95.69), ('Kentucky', 'Frankfort', 38.2, -84.86), ('Louisiana', 'Baton Rouge', 30.46, -91.14), ('Maine', 'Augusta', 44.32, -69.77), ('Maryland', 'Annapolis', 38.97, -76.5), ('Massachusetts', 'Boston', 42.24, -71.03), ('Michigan', 'Lansing', 42.73, -84.55), ('Minnesota', 'Saint Paul', 44.95, -93.09), ('Mississippi', 'Jackson', 32.32, -90.21), ('Missouri', 'Jefferson City', 38.57, -92.19), ('Montana', 'Helana', 46.6, -112.03), ('Nebraska', 'Lincoln', 40.81, -96.68), ('Nevada', 'Carson City', 39.16, -119.75), ('New Hampshire', 'Concord', 43.22, -71.55), ('New Jersey', 'Trenton', 40.22, -74.76), ('New Mexico', 'Santa Fe', 35.67, -105.96), ('New York', 'Albany', 42.66, -73.78), ('North Carolina', 'Raleigh', 35.77, -78.64), ('North Dakota', 'Bismarck', 48.81, -100.78), ('Ohio', 'Columbus', 39.96, -83.0), ('Oklahoma', 'Oklahoma City', 35.48, -97.53), ('Oregon', 'Salem', 44.93, -123.03), ('Pennsylvania', 'Harrisburg', 40.27, -76.88), ('Rhode Island', 'Providence', 41.82, -71.42), ('South Carolina', 'Columbia', 34.0, -81.03), ('South Dakota', 'Pierre', 44.37, -100.34), ('Tennessee', 'Nashville', 36.16, -86.78), ('Texas', 'Austin', 30.27, -97.75), ('Utah', 'Salt Lake City', 40.75, -111.89), ('Vermont', 'Montpelier', 44.27, -72.57), ('Virginia', 'Richmond', 37.54, -77.46), ('Washington', 'Olympia', 47.04, -122.89), ('West Virginia', 'Charleston', 38.35, -81.63), ('Wisconsin', 'Madison', 43.07, -89.38), ('Wyoming', 'Cheyenne', 41.15, -104.8)]\n",
      "\n",
      "(831.99, 10000, [('Iowa', 'Des Moines', 41.59, -93.62), ('Rhode Island', 'Providence', 41.82, -71.42), ('South Carolina', 'Columbia', 34.0, -81.03), ('Texas', 'Austin', 30.27, -97.75), ('Connecticut', 'Hartford', 41.77, -72.68), ('Oregon', 'Salem', 44.93, -123.03), ('North Carolina', 'Raleigh', 35.77, -78.64), ('Montana', 'Helana', 46.6, -112.03), ('Maine', 'Augusta', 44.32, -69.77), ('Minnesota', 'Saint Paul', 44.95, -93.09), ('Tennessee', 'Nashville', 36.16, -86.78), ('Maryland', 'Annapolis', 38.97, -76.5), ('Arkansas', 'Little Rock', 34.74, -92.33), ('Hawaii', 'Honolulu', 21.31, -157.83), ('Massachusetts', 'Boston', 42.24, -71.03), ('Wyoming', 'Cheyenne', 41.15, -104.8), ('New Mexico', 'Santa Fe', 35.67, -105.96), ('North Dakota', 'Bismarck', 48.81, -100.78), ('New Jersey', 'Trenton', 40.22, -74.76), ('Virginia', 'Richmond', 37.54, -77.46), ('Louisiana', 'Baton Rouge', 30.46, -91.14), ('Ohio', 'Columbus', 39.96, -83.0), ('Florida', 'Tallahassee', 30.45, -84.27), ('Illinois', 'Springfield', 39.78, -89.65), ('Michigan', 'Lansing', 42.73, -84.55), ('West Virginia', 'Charleston', 38.35, -81.63), ('Pennsylvania', 'Harrisburg', 40.27, -76.88), ('Washington', 'Olympia', 47.04, -122.89), ('Colorado', 'Denver', 39.74, -104.98), ('Vermont', 'Montpelier', 44.27, -72.57), ('Oklahoma', 'Oklahoma City', 35.48, -97.53), ('Wisconsin', 'Madison', 43.07, -89.38), ('New York', 'Albany', 42.66, -73.78), ('Alabama', 'Montgomery', 32.36, -86.28), ('South Dakota', 'Pierre', 44.37, -100.34), ('Mississippi', 'Jackson', 32.32, -90.21), ('Alaska', 'Juneau', 58.3, -134.42), ('New Hampshire', 'Concord', 43.22, -71.55), ('Georgia', 'Atlanta', 33.76, -84.39), ('California', 'Sacramento', 38.56, -121.47), ('Utah', 'Salt Lake City', 40.75, -111.89), ('Arizona', 'Phoenix', 33.45, -112.07), ('Nebraska', 'Lincoln', 40.81, -96.68), ('Kentucky', 'Frankfort', 38.2, -84.86), ('Missouri', 'Jefferson City', 38.57, -92.19), ('Delaware', 'Dover', 39.16, -75.53), ('Nevada', 'Carson City', 39.16, -119.75), ('Kansas', 'Topeka', 39.04, -95.69), ('Indiana', 'Indianapolis', 39.79, -86.15), ('Idaho', 'Boise', 43.61, -116.24)])\n"
     ]
    }
   ],
   "source": [
    "print(main())"
   ]
  },
  {
   "cell_type": "code",
   "execution_count": null,
   "metadata": {},
   "outputs": [],
   "source": []
  }
 ],
 "metadata": {
  "kernelspec": {
   "display_name": "Python 3",
   "language": "python",
   "name": "python3"
  },
  "language_info": {
   "codemirror_mode": {
    "name": "ipython",
    "version": 3
   },
   "file_extension": ".py",
   "mimetype": "text/x-python",
   "name": "python",
   "nbconvert_exporter": "python",
   "pygments_lexer": "ipython3",
   "version": "3.7.4"
  }
 },
 "nbformat": 4,
 "nbformat_minor": 2
}
